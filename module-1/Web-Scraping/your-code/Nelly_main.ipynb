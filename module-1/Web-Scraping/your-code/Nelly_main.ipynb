{
 "cells": [
  {
   "cell_type": "markdown",
   "metadata": {},
   "source": [
    "# Web Scraping Lab\n",
    "\n",
    "You will find in this notebook some scrapy exercises to practise your scraping skills.\n",
    "\n",
    "**Tips:**\n",
    "\n",
    "- Check the response status code for each request to ensure you have obtained the intended content.\n",
    "- Print the response text in each request to understand the kind of info you are getting and its format.\n",
    "- Check for patterns in the response text to extract the data/info requested in each question.\n",
    "- Visit the urls below and take a look at their source code through Chrome DevTools. You'll need to identify the html tags, special class names, etc used in the html content you are expected to extract.\n",
    "\n",
    "**Resources**:\n",
    "- [Requests library](http://docs.python-requests.org/en/master/#the-user-guide)\n",
    "- [Beautiful Soup Doc](https://www.crummy.com/software/BeautifulSoup/bs4/doc/)\n",
    "- [Urllib](https://docs.python.org/3/library/urllib.html#module-urllib)\n",
    "- [re lib](https://docs.python.org/3/library/re.html)\n",
    "- [lxml lib](https://lxml.de/)\n",
    "- [Scrapy](https://scrapy.org/)\n",
    "- [List of HTTP status codes](https://en.wikipedia.org/wiki/List_of_HTTP_status_codes)\n",
    "- [HTML basics](http://www.simplehtmlguide.com/cheatsheet.php)\n",
    "- [CSS basics](https://www.cssbasics.com/#page_start)"
   ]
  },
  {
   "cell_type": "markdown",
   "metadata": {},
   "source": [
    "#### Below are the libraries and modules you may need. `requests`,  `BeautifulSoup` and `pandas` are already imported for you. If you prefer to use additional libraries feel free to do it."
   ]
  },
  {
   "cell_type": "code",
   "execution_count": 1,
   "metadata": {},
   "outputs": [
    {
     "data": {
      "text/plain": [
       "'\\nimport sys\\n!{sys.executable} -m pip install bs4\\n'"
      ]
     },
     "execution_count": 1,
     "metadata": {},
     "output_type": "execute_result"
    }
   ],
   "source": [
    "import requests\n",
    "from bs4 import BeautifulSoup\n",
    "import pandas as pd\n",
    "import bs4\n",
    "\n",
    "from parse import *\n",
    "\n",
    "\"\"\"\n",
    "import sys\n",
    "!{sys.executable} -m pip install bs4\n",
    "\"\"\""
   ]
  },
  {
   "cell_type": "markdown",
   "metadata": {},
   "source": [
    "#### Download, parse (using BeautifulSoup), and print the content from the Trending Developers page from GitHub:"
   ]
  },
  {
   "cell_type": "code",
   "execution_count": 2,
   "metadata": {},
   "outputs": [],
   "source": [
    "# This is the url you will scrape in this exercise\n",
    "url = 'https://github.com/trending/developers'"
   ]
  },
  {
   "cell_type": "code",
   "execution_count": 3,
   "metadata": {},
   "outputs": [],
   "source": [
    "# your code here\n",
    "\n",
    "from parse import *\n",
    "from bs4 import BeautifulSoup\n",
    "\n",
    "url = 'https://github.com/trending/developers'\n",
    "html = requests.get(url).content\n",
    "\n",
    "soup = BeautifulSoup(html, \"html\")\n",
    "\n",
    "\n"
   ]
  },
  {
   "cell_type": "markdown",
   "metadata": {},
   "source": [
    "#### Display the names of the trending developers retrieved in the previous step.\n",
    "\n",
    "Your output should be a Python list of developer names. Each name should not contain any html tag.\n",
    "\n",
    "**Instructions:**\n",
    "\n",
    "1. Find out the html tag and class names used for the developer names. You can achieve this using Chrome DevTools.\n",
    "\n",
    "1. Use BeautifulSoup to extract all the html elements that contain the developer names.\n",
    "\n",
    "1. Use string manipulation techniques to replace whitespaces and linebreaks (i.e. `\\n`) in the *text* of each html element. Use a list to store the clean names.\n",
    "\n",
    "1. Print the list of names.\n",
    "\n",
    "Your output should look like below:\n",
    "\n",
    "```\n",
    "['trimstray (@trimstray)',\n",
    " 'joewalnes (JoeWalnes)',\n",
    " 'charlax (Charles-AxelDein)',\n",
    " 'ForrestKnight (ForrestKnight)',\n",
    " 'revery-ui (revery-ui)',\n",
    " 'alibaba (Alibaba)',\n",
    " 'Microsoft (Microsoft)',\n",
    " 'github (GitHub)',\n",
    " 'facebook (Facebook)',\n",
    " 'boazsegev (Bo)',\n",
    " 'google (Google)',\n",
    " 'cloudfetch',\n",
    " 'sindresorhus (SindreSorhus)',\n",
    " 'tensorflow',\n",
    " 'apache (TheApacheSoftwareFoundation)',\n",
    " 'DevonCrawford (DevonCrawford)',\n",
    " 'ARMmbed (ArmMbed)',\n",
    " 'vuejs (vuejs)',\n",
    " 'fastai (fast.ai)',\n",
    " 'QiShaoXuan (Qi)',\n",
    " 'joelparkerhenderson (JoelParkerHenderson)',\n",
    " 'torvalds (LinusTorvalds)',\n",
    " 'CyC2018',\n",
    " 'komeiji-satori (神楽坂覚々)',\n",
    " 'script-8']\n",
    " ```"
   ]
  },
  {
   "cell_type": "code",
   "execution_count": 4,
   "metadata": {
    "scrolled": true
   },
   "outputs": [
    {
     "data": {
      "text/plain": [
       "['Trending',\n",
       " 'Rob Dodson',\n",
       " 'eleventy-netlify-boilerplate',\n",
       " 'MichaIng',\n",
       " 'DietPi',\n",
       " 'Gleb Bahmutov',\n",
       " 'cypress-react-unit-test',\n",
       " 'Lukas Taegert-Atkinson',\n",
       " 'Till Krüss',\n",
       " 'alfred-laravel-docs',\n",
       " 'Jesse Duffield',\n",
       " 'lazydocker',\n",
       " 'ᴜɴᴋɴᴡᴏɴ',\n",
       " 'the-way-to-go_ZH_CN',\n",
       " 'Arve Knudsen',\n",
       " 'html-to-react',\n",
       " 'Niklas von Hertzen',\n",
       " 'html2canvas',\n",
       " 'Stephen Celis',\n",
       " 'SQLite.swift',\n",
       " 'Damian Dulisz',\n",
       " 'vue-multiselect',\n",
       " 'Yufan You',\n",
       " 'Despised',\n",
       " 'Christian Clauss',\n",
       " 'Ten-lines-or-less',\n",
       " 'Jirka Borovec',\n",
       " 'pyImSegm',\n",
       " 'Timothy Edmund Crosley',\n",
       " 'isort',\n",
       " 'James Newton-King',\n",
       " 'Newtonsoft.Json',\n",
       " 'Michael Shilman',\n",
       " 'storybook-vue-example',\n",
       " 'Mike Penz',\n",
       " 'MaterialDrawer',\n",
       " 'Alex Hall',\n",
       " 'futurecoder',\n",
       " 'Diego Sampaio',\n",
       " 'Dries Vints',\n",
       " 'dotfiles',\n",
       " 'JK Jung',\n",
       " 'tensorrt_demos',\n",
       " 'Steven',\n",
       " 'cancel-workflow-action',\n",
       " 'Daniel Martí',\n",
       " 'sh',\n",
       " 'Łukasz Magiera',\n",
       " 'dflow']"
      ]
     },
     "execution_count": 4,
     "metadata": {},
     "output_type": "execute_result"
    }
   ],
   "source": [
    "# your code here\n",
    "from bs4 import BeautifulSoup\n",
    "\n",
    "url = 'https://github.com/trending/developers'\n",
    "html = requests.get(url).content\n",
    "soup = BeautifulSoup(html, \"html\")\n",
    "\n",
    "\n",
    "lst = soup.find_all('h1', {'class':'h3 lh-condensed'})[0]\n",
    "lst\n",
    "\n",
    "tags= ['h1']\n",
    "text = [element.text for element in soup.find_all(tags)]\n",
    "\n",
    "text= list(map(lambda x:x.strip(),text))\n",
    "\n",
    "text\n",
    "\n",
    "# I didn’t get the username"
   ]
  },
  {
   "cell_type": "markdown",
   "metadata": {},
   "source": [
    "#### Display the trending Python repositories in GitHub.\n",
    "\n",
    "The steps to solve this problem is similar to the previous one except that you need to find out the repository names instead of developer names."
   ]
  },
  {
   "cell_type": "code",
   "execution_count": 5,
   "metadata": {},
   "outputs": [],
   "source": [
    "# This is the url you will scrape in this exercise\n",
    "url = 'https://github.com/trending/python?since=daily'"
   ]
  },
  {
   "cell_type": "code",
   "execution_count": 6,
   "metadata": {
    "scrolled": false
   },
   "outputs": [
    {
     "data": {
      "text/plain": [
       "[['Trending'],\n",
       " ['sherlock-project ', '      sherlock'],\n",
       " ['MrMimic ', '      data-scientist-roadmap'],\n",
       " ['alexandreborges ', '      malwoverview'],\n",
       " ['odashi ', '      latexify_py'],\n",
       " ['csxmli2016 ', '      DFDNet'],\n",
       " ['ankitects ', '      anki'],\n",
       " ['ytdl-org ', '      youtube-dl'],\n",
       " ['pyIDM ', '      PyIDM'],\n",
       " ['StevenBlack ', '      hosts'],\n",
       " ['executablebooks ', '      jupyter-book'],\n",
       " ['Palashio ', '      libra'],\n",
       " ['ohld ', '      igbot'],\n",
       " ['donnemartin ', '      data-science-ipython-notebooks'],\n",
       " ['cvg ', '      Hierarchical-Localization'],\n",
       " ['ranaroussi ', '      yfinance'],\n",
       " ['deepfakes ', '      faceswap'],\n",
       " ['corpnewt ', '      gibMacOS'],\n",
       " ['dunnousername ', '      yanderifier'],\n",
       " ['mingrammer ', '      diagrams'],\n",
       " ['donnemartin ', '      system-design-primer'],\n",
       " ['jonasrauber ', '      eagerpy'],\n",
       " ['PySimpleGUI ', '      PySimpleGUI'],\n",
       " ['sqlmapproject ', '      sqlmap'],\n",
       " ['mkdirlove ', '      FBTOOL'],\n",
       " ['DarkSecDevelopers ', '      HiddenEye']]"
      ]
     },
     "execution_count": 6,
     "metadata": {},
     "output_type": "execute_result"
    }
   ],
   "source": [
    "# your code here\n",
    "\n",
    "url = 'https://github.com/trending/python?since=daily'\n",
    "html = requests.get(url).content\n",
    "soup = BeautifulSoup(html, \"html\")\n",
    "\n",
    "\n",
    "lst = soup.find_all('h1', {'class':'h3 lh-condensed'})[0]\n",
    "lst\n",
    "\n",
    "tags= ['h1']\n",
    "text = [element.text for element in soup.find_all(tags)]\n",
    "\n",
    "text = list(map(lambda x:x.strip().split('\\n'),text))\n",
    "\n",
    "text = [[x.replace('/',  '') for x in row if x != ''] for row in text]\n",
    "\n",
    "text\n",
    "\n"
   ]
  },
  {
   "cell_type": "code",
   "execution_count": 7,
   "metadata": {},
   "outputs": [],
   "source": [
    "# I couldn’t get rid of the comma"
   ]
  },
  {
   "cell_type": "markdown",
   "metadata": {},
   "source": [
    "#### Display all the image links from Walt Disney wikipedia page."
   ]
  },
  {
   "cell_type": "code",
   "execution_count": 8,
   "metadata": {},
   "outputs": [],
   "source": [
    "# This is the url you will scrape in this exercise\n",
    "\n",
    "url = 'https://en.wikipedia.org/wiki/Walt_Disney'\n",
    "\n"
   ]
  },
  {
   "cell_type": "code",
   "execution_count": 9,
   "metadata": {},
   "outputs": [
    {
     "name": "stdout",
     "output_type": "stream",
     "text": [
      "//upload.wikimedia.org/wikipedia/commons/thumb/c/c4/Walt_Disney_envelope_ca._1921.jpg/220px-Walt_Disney_envelope_ca._1921.jpg\n",
      "\n",
      "//upload.wikimedia.org/wikipedia/commons/thumb/4/4d/Newman_Laugh-O-Gram_%281921%29.webm/220px-seek%3D2-Newman_Laugh-O-Gram_%281921%29.webm.jpg\n",
      "\n",
      "//upload.wikimedia.org/wikipedia/commons/thumb/0/0d/Trolley_Troubles_poster.jpg/170px-Trolley_Troubles_poster.jpg\n",
      "\n",
      "//upload.wikimedia.org/wikipedia/commons/thumb/7/71/Walt_Disney_and_his_cartoon_creation_%22Mickey_Mouse%22_-_National_Board_of_Review_Magazine.jpg/170px-Walt_Disney_and_his_cartoon_creation_%22Mickey_Mouse%22_-_National_Board_of_Review_Magazine.jpg\n",
      "\n",
      "//upload.wikimedia.org/wikipedia/en/thumb/4/4e/Steamboat-willie.jpg/170px-Steamboat-willie.jpg\n",
      "\n",
      "//upload.wikimedia.org/wikipedia/commons/thumb/5/57/Walt_Disney_1935.jpg/170px-Walt_Disney_1935.jpg\n",
      "\n",
      "//upload.wikimedia.org/wikipedia/commons/thumb/c/cd/Walt_Disney_Snow_white_1937_trailer_screenshot_%2813%29.jpg/220px-Walt_Disney_Snow_white_1937_trailer_screenshot_%2813%29.jpg\n",
      "\n",
      "//upload.wikimedia.org/wikipedia/commons/thumb/1/15/Disney_drawing_goofy.jpg/170px-Disney_drawing_goofy.jpg\n",
      "\n",
      "//upload.wikimedia.org/wikipedia/commons/thumb/1/13/DisneySchiphol1951.jpg/220px-DisneySchiphol1951.jpg\n",
      "\n",
      "//upload.wikimedia.org/wikipedia/commons/thumb/8/8c/WaltDisneyplansDisneylandDec1954.jpg/220px-WaltDisneyplansDisneylandDec1954.jpg\n",
      "\n",
      "//upload.wikimedia.org/wikipedia/commons/thumb/f/ff/Walt_disney_portrait_right.jpg/170px-Walt_disney_portrait_right.jpg\n",
      "\n",
      "//upload.wikimedia.org/wikipedia/commons/thumb/2/2d/Roy_O._Disney_with_Company_at_Press_Conference.jpg/170px-Roy_O._Disney_with_Company_at_Press_Conference.jpg\n",
      "\n",
      "//upload.wikimedia.org/wikipedia/commons/thumb/6/6c/Disney1968.jpg/170px-Disney1968.jpg\n",
      "\n",
      "//upload.wikimedia.org/wikipedia/commons/thumb/1/1a/Magic_Kingdom_castle.jpg/24px-Magic_Kingdom_castle.jpg\n",
      "\n"
     ]
    }
   ],
   "source": [
    "# your code here\n",
    "import re\n",
    "\n",
    "url = 'https://en.wikipedia.org/wiki/Walt_Disney'\n",
    "html = requests.get(url).content\n",
    "\n",
    "soup = BeautifulSoup(html, 'html.parser')\n",
    "images = soup.find_all('img', {'src':re.compile('.jpg')})\n",
    "\n",
    "for image in images: \n",
    "    print(image['src']+'\\n')\n"
   ]
  },
  {
   "cell_type": "markdown",
   "metadata": {},
   "source": [
    "#### Retrieve an arbitary Wikipedia page of \"Python\" and create a list of links on that page."
   ]
  },
  {
   "cell_type": "code",
   "execution_count": 10,
   "metadata": {},
   "outputs": [],
   "source": [
    "# This is the url you will scrape in this exercise\n",
    "url ='https://en.wikipedia.org/wiki/Python'\n"
   ]
  },
  {
   "cell_type": "code",
   "execution_count": 11,
   "metadata": {
    "scrolled": true
   },
   "outputs": [
    {
     "data": {
      "text/plain": [
       "['',\n",
       " 'Jump to navigation',\n",
       " 'Jump to search',\n",
       " 'Python',\n",
       " 'python',\n",
       " '1 Snakes',\n",
       " '2 Ancient Greece',\n",
       " '3 Media and entertainment',\n",
       " '4 Computing',\n",
       " '5 Engineering',\n",
       " '5.1 Roller coasters',\n",
       " '5.2 Vehicles',\n",
       " '5.3 Weaponry',\n",
       " '6 People',\n",
       " '7 Other uses',\n",
       " '8 See also',\n",
       " 'edit',\n",
       " 'Pythonidae',\n",
       " 'Python (genus)',\n",
       " 'edit',\n",
       " 'Python (mythology)',\n",
       " 'Python of Aenus',\n",
       " 'Python (painter)',\n",
       " 'Python of Byzantium',\n",
       " 'Python of Catana',\n",
       " 'edit',\n",
       " 'Python (film)',\n",
       " 'Pythons 2',\n",
       " 'Monty Python',\n",
       " 'Python (Monty) Pictures',\n",
       " 'edit',\n",
       " 'Python (programming language)',\n",
       " 'CPython',\n",
       " 'CMU Common Lisp',\n",
       " 'PERQ 3',\n",
       " 'edit',\n",
       " 'edit',\n",
       " 'Python (Busch Gardens Tampa Bay)',\n",
       " 'Python (Coney Island, Cincinnati, Ohio)',\n",
       " 'Python (Efteling)',\n",
       " 'edit',\n",
       " 'Python (automobile maker)',\n",
       " 'Python (Ford prototype)',\n",
       " 'edit',\n",
       " 'Colt Python',\n",
       " 'Python (missile)',\n",
       " 'Python (nuclear primary)',\n",
       " 'edit',\n",
       " 'Python Anghelo',\n",
       " 'edit',\n",
       " 'PYTHON',\n",
       " 'edit',\n",
       " 'Cython',\n",
       " 'Pyton',\n",
       " '',\n",
       " 'disambiguation',\n",
       " 'internal link',\n",
       " 'https://en.wikipedia.org/w/index.php?title=Python&oldid=963092579',\n",
       " 'Categories',\n",
       " 'Disambiguation pages',\n",
       " 'Disambiguation pages with short descriptions',\n",
       " 'Short description is different from Wikidata',\n",
       " 'All article disambiguation pages',\n",
       " 'All disambiguation pages',\n",
       " 'Animal common name disambiguation pages',\n",
       " 'Talk',\n",
       " 'Contributions',\n",
       " 'Create account',\n",
       " 'Log in',\n",
       " 'Article',\n",
       " 'Talk',\n",
       " 'Read',\n",
       " 'Edit',\n",
       " 'View history',\n",
       " '',\n",
       " 'Main page',\n",
       " 'Contents',\n",
       " 'Current events',\n",
       " 'Random article',\n",
       " 'About Wikipedia',\n",
       " 'Contact us',\n",
       " 'Donate',\n",
       " 'Wikipedia store',\n",
       " 'Help',\n",
       " 'Community portal',\n",
       " 'Recent changes',\n",
       " 'Upload file',\n",
       " 'What links here',\n",
       " 'Related changes',\n",
       " 'Upload file',\n",
       " 'Special pages',\n",
       " 'Permanent link',\n",
       " 'Page information',\n",
       " 'Cite this page',\n",
       " 'Wikidata item',\n",
       " 'Download as PDF',\n",
       " 'Printable version',\n",
       " 'Wikimedia Commons',\n",
       " 'Afrikaans',\n",
       " 'Alemannisch',\n",
       " 'العربية',\n",
       " 'Azərbaycanca',\n",
       " 'বাংলা',\n",
       " 'Беларуская',\n",
       " 'Български',\n",
       " 'Čeština',\n",
       " 'Dansk',\n",
       " 'Deutsch',\n",
       " 'Esperanto',\n",
       " 'Euskara',\n",
       " 'فارسی',\n",
       " 'Français',\n",
       " '한국어',\n",
       " 'Hrvatski',\n",
       " 'Ido',\n",
       " 'Bahasa Indonesia',\n",
       " 'Interlingua',\n",
       " 'Íslenska',\n",
       " 'Italiano',\n",
       " 'עברית',\n",
       " 'ქართული',\n",
       " 'Kongo',\n",
       " 'Latina',\n",
       " 'Lëtzebuergesch',\n",
       " 'Magyar',\n",
       " 'मराठी',\n",
       " 'Nederlands',\n",
       " '日本語',\n",
       " 'Norsk bokmål',\n",
       " 'Polski',\n",
       " 'Português',\n",
       " 'Русский',\n",
       " 'Slovenčina',\n",
       " 'Српски / srpski',\n",
       " 'Srpskohrvatski / српскохрватски',\n",
       " 'Suomi',\n",
       " 'Svenska',\n",
       " 'ไทย',\n",
       " 'Türkçe',\n",
       " 'Українська',\n",
       " 'اردو',\n",
       " 'Tiếng Việt',\n",
       " '中文',\n",
       " 'Edit links',\n",
       " 'Creative Commons Attribution-ShareAlike License',\n",
       " '',\n",
       " 'Terms of Use',\n",
       " 'Privacy Policy',\n",
       " 'Wikimedia Foundation, Inc.',\n",
       " 'Privacy policy',\n",
       " 'About Wikipedia',\n",
       " 'Disclaimers',\n",
       " 'Contact Wikipedia',\n",
       " 'Developers',\n",
       " 'Statistics',\n",
       " 'Cookie statement',\n",
       " 'Mobile view',\n",
       " '',\n",
       " '']"
      ]
     },
     "execution_count": 11,
     "metadata": {},
     "output_type": "execute_result"
    }
   ],
   "source": [
    "# your code here\n",
    "\n",
    "html = requests.get(url).content\n",
    "\n",
    "soup = BeautifulSoup(html, 'html.parser')\n",
    "\n",
    "tags = ['a', 'link href']\n",
    "soup.find_all(tags)\n",
    "\n",
    "soup\n",
    "\n",
    "\n",
    "text = [element.text for element in soup.find_all(tags)]\n",
    "\n",
    "text"
   ]
  },
  {
   "cell_type": "markdown",
   "metadata": {},
   "source": [
    "#### Find the number of titles that have changed in the United States Code since its last release point."
   ]
  },
  {
   "cell_type": "code",
   "execution_count": 12,
   "metadata": {},
   "outputs": [],
   "source": [
    "# This is the url you will scrape in this exercise\n",
    "url = 'http://uscode.house.gov/download/download.shtml'\n",
    "\n"
   ]
  },
  {
   "cell_type": "code",
   "execution_count": 61,
   "metadata": {},
   "outputs": [
    {
     "data": {
      "text/plain": [
       "['Public Law 116-152 (08/04/2020), affecting title 54.',\n",
       " 'Public Law 116-151 (08/03/2020), affecting titles 6, 42.',\n",
       " 'Public Law 116-150 (07/22/2020), affecting title 6.',\n",
       " 'Public Law 116-149 (07/14/2020), affecting title 22.',\n",
       " 'Public Law 116-148 (07/13/2020), affecting title 42.',\n",
       " 'Public Law 116-147 (07/04/2020) with USMCA updates, affecting titles 6, 7, 8, 15, 17, 19, 22, 26, 28, 38, 42.',\n",
       " 'Public Law 116-145 (06/17/2020) with executive document updates through May, 2020, affecting titles 5, 8, 10, 16, 19, 36, 50.',\n",
       " 'Public Law 116-145 (06/17/2020), affecting title 22.',\n",
       " 'Public Law 116-144 (06/16/2020), affecting title 34.',\n",
       " 'Public Law 116-142 (06/05/2020), affecting titles 15, 26.',\n",
       " 'Public Law 116-141 (05/29/2020), affecting title 36.',\n",
       " 'Public Law 116-140 (04/28/2020) with executive document updates through April, 2020, affecting titles 2, 5, 6, 8, 10, 19, 21, 22, 34, 42, 46, 47, 50, 51.',\n",
       " 'Public Law 116-140 (04/28/2020), affecting titles 10, 38.',\n",
       " 'Public Law 116-139 (04/24/2020), affecting titles 8, 15, 19, 22, 26, 28, 42, 46, 49.',\n",
       " 'Public Law 116-138 (04/10/2020) , except 116-113, affecting titles 1, 2, 5, 5A, 6, 10, 11, 12, 15, 17, 18, 20, 21, 22, 23, 25, 26, 29, 31, 35, 37, 38, 39, 40, 41, 42, 45, 49, 50.',\n",
       " 'Public Law 116-135 (03/26/2020) , except 116-113, affecting titles 8, 22, 29, 42.',\n",
       " 'Public Law 116-130 (03/23/2020) , except 116-113, affecting titles 1, 3, 5, 6, 7, 10, 15, 16, 25, 26, 29, 31, 38, 42, 47.',\n",
       " 'Public Law 116-108 (01/24/2020), affecting titles 2, 5, 5A, 6, 8, 10, 11, 12, 14, 15, 16, 17, 18, 19, 20, 21, 22, 23, 26, 28, 29, 31, 32, 33, 34, 37, 38, 39, 40, 41, 42, 44, 46, 49, 50, 54.',\n",
       " 'Public Law 116-108 (01/24/2020) , except 116-92, affecting titles 1, 2, 5, 5A, 6, 7, 8, 12, 15, 16, 17, 18, 20, 21, 22, 23, 26, 29, 30, 31, 36, 38, 41, 42, 43, 44, 45, 47, 48, 49, 50, 51, 54.',\n",
       " 'Public Law 116-108 (01/24/2020) , except 116-92, 116-94, affecting titles 1, 5, 6, 8, 10, 12, 14, 15, 21, 26, 28, 31, 33, 34, 38, 41, 42, 47, 50, 51.',\n",
       " 'Public Law 116-91 (12/19/2019), affecting titles 18, 20, 26.',\n",
       " 'Public Law 116-78 (12/05/2019), affecting titles 18, 21, 22, 28, 40.',\n",
       " 'Public Law 116-72 (11/25/2019), affecting titles 5, 15, 18, 26, 31, 34, 42, 50.',\n",
       " 'Pub. L. 116-68 (11/08/2019) with Court Rules updates current through 12/01/2019, affecting titles 11A, 18A, 28, 28A.',\n",
       " 'Public Law 116-68 (11/08/2019), affecting titles 31, 33, 36, 41, 42.',\n",
       " 'Public Law 116-65 (10/09/2019), affecting titles 6, 31.',\n",
       " 'Public Law 116-63 (10/04/2019), affecting titles 29, 38, 42.',\n",
       " 'Public Law 116-59 (09/27/2019), affecting titles 18, 26, 38, 42.',\n",
       " 'Public Law 116-57 (09/22/2019), affecting titles 19, 23.',\n",
       " 'Public Law 116-56 (08/23/2019), affecting titles 5, 11, 13, 15, 20, 28, 38, 42.',\n",
       " 'Public Law 116-38 (08/02/2019), affecting titles 2, 19, 31, 38.',\n",
       " 'Public Law 116-35 (07/30/2019), affecting title 36.',\n",
       " 'Public Law 116-34 (07/29/2019), affecting titles 10, 36, 49.',\n",
       " 'Public Law 116-33 (07/25/2019), affecting titles 12, 18, 26, 28, 34, 38, 40, 44.',\n",
       " 'Public Law 116-29 (07/05/2019), affecting titles 2, 6, 7, 15, 16, 19, 21, 26, 34, 38, 42, 43, 48, 49, 50.',\n",
       " 'Public Law 116-21 (06/12/2019), affecting title 2.',\n",
       " 'Public Law 116-20 (06/06/2019), affecting titles 7, 42.',\n",
       " 'Public Law 116-19 (05/31/2019), affecting titles 25, 42.',\n",
       " 'Public Law 116-18 (05/23/2019), affecting title 34.',\n",
       " 'Public Law 116-17 (05/10/2019), affecting title 16.',\n",
       " 'Public Law 116-16 (04/18/2019), affecting title 42.',\n",
       " 'Public Law 116-13 (04/12/2019), affecting title 20.',\n",
       " 'Public Law 116-12 (04/08/2019), affecting title 38.',\n",
       " 'Public Law 116-10 (03/21/2019), affecting titles 1, 2, 3, 5, 5A, 7, 8, 12, 15, 16, 20, 21, 22, 23, 25, 26, 28, 30, 31, 33, 34, 36, 40, 42, 43, 48, 49, 50, 51, 54.',\n",
       " 'Public Law 116-8 (03/08/2019) , except 116-6, affecting titles 6, 7, 21, 31, 36, 42.',\n",
       " 'Public Law 115-442 (01/14/2019), affecting titles 2, 5, 7, 12, 15, 16, 18, 19, 20, 21, 22, 25, 31, 33, 34, 39, 40, 42, 43, 47.',\n",
       " 'Public Law 115-442 (01/14/2019) , except 115-334, affecting titles 5, 7, 8, 13, 15, 16, 22, 23, 33, 34, 36, 40, 41, 42, 44, 46, 49.',\n",
       " 'Public Law 115-419 (01/03/2019) , except 115-334, affecting titles 2, 3, 5, 6, 8, 10, 14, 15, 16, 18, 19, 20, 21, 22, 25, 26, 28, 29, 31, 33, 34, 36, 37, 38, 40, 41, 42, 44, 45, 46, 47, 48, 49, 50, 51, 52, 54.',\n",
       " 'Public Law 115-384 (12/21/2018) , except 115-282, 115-334, affecting titles 2, 5, 5A, 6, 8, 14, 15, 16, 18, 19, 20, 22, 23, 26, 31, 41, 42, 43, 46, 49, 50, 51.',\n",
       " 'Public Law 115-338 (12/20/2018), except 115-254, 115-282 and 115-334, affecting titles 31, 44, 50.',\n",
       " 'Public Law 115-333 (12/19/2018), except 115-254 and 115-282, affecting titles 6, 8, 15, 16, 25, 28, 42.',\n",
       " 'Public Law 115-324 (12/17/2018), except 115-254 and 115-282, affecting titles 5, 6, 10, 15, 18, 19, 21, 22, 25, 26, 29, 31, 34, 38, 40, 42, 49, 51.',\n",
       " 'Public Law 115-280 (11/29/2018), except 115-254 and 115-271, affecting titles 5, 5A, 6, 11A, 12, 15, 16, 18, 18A, 28, 28A, 31, 34, 40, 44.',\n",
       " 'Public Law 115-273 (10/31/2018), except 115-254 and 115-271, affecting titles 7, 16, 22, 25, 33, 35, 42, 43, 50.',\n",
       " 'Public Law 115-269 (10/16/2018), except 115-254, affecting titles 1, 3, 5, 6, 7, 8, 10, 12, 14, 15, 16, 18, 19, 20, 22, 23, 24, 26, 28, 30, 31, 32, 33, 34, 36, 37, 38, 40, 41, 42, 43, 46, 47, 48, 49, 50, 51, 54.',\n",
       " 'Public Law 115-269 (10/16/2018) , except 115-232, 115-254, affecting titles 2, 5, 14, 15, 17, 19, 20, 21, 22, 28, 33, 34, 38, 41, 42, 45, 46, 49.',\n",
       " 'Public Law 115-253 (10/03/2018), except 115-232, affecting titles 1, 10, 15, 16, 18, 20, 26, 29, 30, 31, 38, 41, 42, 48, 50.',\n",
       " 'Public Law 115-244 (09/21/2018), except 115-232, affecting titles 1, 2, 10, 38, 42, 43, 52.',\n",
       " 'Public Law 115-243 (09/20/2018), except 115-232, affecting titles 26, 42.',\n",
       " 'Public Law 115-242 (09/18/2018), except 115-232, affecting title 42.',\n",
       " 'Public Law 115-240 (09/17/2018), except 115-232, affecting title 38.',\n",
       " 'Public Law 115-239 (09/13/2018), except 115-232, affecting title 19.',\n",
       " 'Public Law 115-238 (09/07/2018), except 115-232, affecting title 5.',\n",
       " 'Public Law 115-236 (08/14/2018), except 115-232, affecting titles 15, 21, 23.',\n",
       " 'Public Law 115-231 (08/08/2018), affecting title 22.',\n",
       " 'Public Law 115-230 (08/02/2018), affecting titles 8, 16, 20, 25, 29, 42.',\n",
       " 'Public Law 115-223 (07/30/2018), affecting titles 10, 42.',\n",
       " 'Public Law 115-218 (07/24/2018), affecting titles 19, 48.',\n",
       " 'Public Law 115-201 (07/20/2018), affecting titles 22, 31.',\n",
       " 'Public Law 115-196 (07/07/2018), affecting titles 5, 39, 42.',\n",
       " 'Public Law 115-193 (06/25/2018), affecting titles 5A, 15, 38, 47, 54.',\n",
       " 'Public Law 115-185 (06/18/2018), affecting titles 34, 38.',\n",
       " 'Public Law 115-182 (06/06/2018), affecting titles 38, 42.',\n",
       " 'Public Law 115-181 (06/05/2018), affecting title 42.',\n",
       " 'Public Law 115-179 (06/01/2018), affecting titles 12, 15, 20, 21, 31, 38, 42, 50.',\n",
       " 'Public Law 115-173 (05/22/2018), affecting title 50.',\n",
       " 'Public Law 115-171 (05/09/2018), affecting titles 1, 2, 5, 5A, 6, 7, 8, 10, 12, 14, 15, 16, 18, 19, 20, 21, 22, 23, 26, 28, 29, 30, 31, 33, 34, 36, 38, 40, 41, 42, 43, 47, 48, 49, 50, 51, 54.',\n",
       " 'Public Law 115-170 (05/07/2018) , except 115-141, affecting title 54.',\n",
       " 'Public Law 115-168 (04/23/2018) , except 115-141, affecting titles 16, 19, 22.',\n",
       " 'Public Law 115-166 (04/13/2018) , except 115-141, affecting titles 34, 42.',\n",
       " 'Public Law 115-164 (04/11/2018) , except 115-141 , affecting titles 5, 18, 31, 38, 47, 54.',\n",
       " 'Public Law 115-137 (03/16/2018), affecting title 38.',\n",
       " 'Public Law 115-132 (03/09/2018), affecting title 38.',\n",
       " 'Public Law 115-129 (02/26/2018), affecting titles 2, 4, 7, 8, 12, 16, 18, 19, 26, 31, 33, 42, 45, 47, 49.',\n",
       " 'Public Law 115-127 (02/16/2018) , except 115-123, affecting titles 6, 18, 34, 36, 47.',\n",
       " 'Public Law 115-122 (01/31/2018), affecting titles 5, 10, 16, 18, 26, 42, 44, 50.',\n",
       " 'Public Law 115-117 (01/12/2018), affecting titles 2, 5, 5A, 8, 10, 14, 15, 18, 20, 21, 22, 24, 25, 26, 31, 32, 33, 36, 37, 38, 40, 41, 42, 44, 46, 47, 48, 49, 50.',\n",
       " 'Public Law 115-117 (01/12/2018) , except 115-91, 115-96, affecting titles 16, 26, 42, 43.',\n",
       " 'Public Law 115-117 (01/12/2018) , except 115-91, 115-96, 115-97, affecting titles 6, 11A, 15, 16, 18A, 25, 28, 28A, 33, 34, 36, 42, 44, 49, 54.',\n",
       " 'Public Law 115-117 (01/12/2018), except 115-91, 115-96, 115-97, affecting titles 6, 11A, 15, 16, 18A, 25, 28, 28A, 33, 34, 36, 42, 44, 49, 54.',\n",
       " 'Public Law 115-95 (12/20/2017) , except 115-91, affecting titles 10, 21, 22, 25, 38.',\n",
       " 'Public Law 115-95 (12/20/2017) , except 115-91, affecting titles 10, 21, 22, 25, 38.',\n",
       " 'Public Law 115-90 (12/08/2017), affecting title 42.',\n",
       " 'Public Law 115-89 (11/21/2017), affecting titles 11A, 28A, 38, 40, 42, 44.',\n",
       " 'Public Law 115-84 (11/17/2017), affecting titles 5, 10, 21, 38, 42, 46.',\n",
       " 'Public Law 115-82 (11/02/2017), affecting titles 6, 8, 34, 36, 38, 42.',\n",
       " 'Public Law 115-73 (10/26/2017), affecting titles 5, 10, 11, 22, 28, 38.',\n",
       " 'Public Law 115-71 (10/18/2017), affecting titles 18, 34, 42.',\n",
       " 'Public Law 115-68 (10/06/2017), affecting titles 15, 22, 31.',\n",
       " 'Public Law 115-64 (09/29/2017), affecting titles 10, 20, 26, 38, 42, 46, 47, 49, 52.',\n",
       " 'Public Law 115-61 (09/27/2017), affecting title 12.',\n",
       " 'Public Law 115-60 (09/15/2017), affecting titles 26, 31, 42.',\n",
       " 'Public Law 115-57 (09/12/2017), affecting titles 1, 16, 22, 31, 42.',\n",
       " 'Public Law 115-55 (08/23/2017), affecting titles 19, 21, 27, 28A, 32, 38, 42, 48.',\n",
       " 'Public Law 115-51 (08/18/2017), affecting titles 10, 16, 34, 37, 38, 40.',\n",
       " 'Public Law 115-46 (08/12/2017), with additional updates for Title 34 editorial reclassification (effective September 1, 2017), affecting titles 2, 5, 6, 8, 10, 12, 15, 18, 20, 22, 25, 26, 28, 29, 31, 33, 34, 35, 38, 39, 40, 41, 42, 48, 49, 50.',\n",
       " 'Public Law 115-46 (08/12/2017), affecting titles 5, 38.',\n",
       " 'Public Law 115-45 (08/04/2017), affecting titles 2, 9, 11, 11A, 12, 13, 14, 17, 18A, 22, 31, 33, 50.',\n",
       " 'Public Law 115-43 (06/30/2017), affecting titles 6, 38.',\n",
       " 'Public Law 115-42 (06/27/2017), affecting titles 5, 38.',\n",
       " 'Public Law 115-40, with additional updates for Title 7, ch. 17 and Title 43, ch. 28 editorial reclassifications (effective July 1, 2017), affecting titles 5, 7, 10, 16, 19, 21, 25, 30, 35, 42, 43.',\n",
       " 'Public Law 115-40 (06/14/2017), affecting title 5.',\n",
       " 'Public Law 115-39 (06/06/2017), affecting title 6.',\n",
       " 'Public Law 115-37 (06/02/2017), affecting title 42.',\n",
       " 'Public Law 115-35 (05/17/2017), affecting titles 1, 2, 5, 5A, 6, 7, 8, 10, 12, 15, 16, 19, 20, 21, 22, 23, 26, 28, 30, 31, 33, 36, 38, 40, 41, 42, 43, 48, 49, 50, 51, 54.',\n",
       " 'Public Law 115-30 (04/28/2017), affecting title 30.',\n",
       " 'Public Law 115-29 (04/19/2017), affecting titles 15, 33, 38, 42.',\n",
       " 'Public Law 115-22 (04/03/2017), affecting title 2.',\n",
       " 'Public Law 115-18 (03/31/2017), affecting title 40.',\n",
       " 'Public Law 115-15 (03/28/2017), affecting title 4.',\n",
       " 'Public Law 115-14 (03/27/2017), affecting titles 10, 42, 51.',\n",
       " 'Public Law 115-8 (02/28/2017), affecting titles 5, 10, 25, 31, 42, 51.',\n",
       " 'Public Law 114-329 (01/06/2017), with additional T-25 reclassification updates, affecting titles 3, 5, 6, 7, 8, 10, 14, 15, 16, 18, 19, 20, 22, 24, 25, 26, 31, 32, 33, 36, 37, 38, 40, 41, 42, 46, 47, 48, 49, 50, 52, 54.',\n",
       " 'Public Law 114-329 (01/06/2017), except 114-328, with additional T-25 reclassification updates, affecting titles 15, 20, 25, 33, 41, 42, 51.',\n",
       " 'Public Law 114-327 (12/16/2016), affecting titles 5, 15, 16, 18, 18A, 22, 25, 28, 33, 38, 42, 43, 49.',\n",
       " 'Public Law 114-321 (12/16/2016), affecting titles 5, 15, 21, 26, 28, 29, 38, 42, 48.',\n",
       " 'Public Law 114-321 (12/16/2016), except 114-255, affecting titles 5, 5A, 6, 10, 18, 28, 31, 38, 39, 40.',\n",
       " 'Public Law 114-314 (12/16/2016), except 114-255, affecting titles 5, 6, 10, 11A, 12, 15, 16, 18A, 19, 22, 26, 28, 28A, 29, 31, 36, 38, 40, 41, 42, 46, 49, 54.',\n",
       " 'Public Law 114-277 (12/15/2016), except 114-255, 114-268, affecting titles 10, 15, 16, 22, 25, 31, 38, 41, 50.',\n",
       " 'Public Law 114-254 (12/10/2016), affecting titles 2, 30, 42.',\n",
       " 'Public Law 114-253 (12/08/2016), affecting titles 5, 12, 15, 50.',\n",
       " 'Public Law 114-248 (11/28/2016), affecting titles 11A, 16, 18A, 20, 28A, 49.',\n",
       " 'Public Law 114-244 (10/14/2016) with additional updates reflecting the transfer of Higher Education Act provisions from United States Code title 42 to United States Code title 20 (Nov. 1, 2016), affecting titles 2, 5, 8, 10, 11, 14, 15, 19, 20, 22, 25, 26, 29, 31, 38, 42, 48, 50.',\n",
       " 'Public Law 114-243 (10/07/2016), affecting titles 7, 16, 18, 20, 22, 23, 25, 26, 36, 40, 42, 49, 54.',\n",
       " 'Public Law 114-229 (09/30/2016), affecting titles 10, 16, 18, 21, 28, 36, 38, 48.',\n",
       " 'Public Law 114-221 (09/23/2016), affecting title 25.',\n",
       " 'Public Law 114-219 (07/29/2016), with additional updates (09/01/2016), affecting titles 2, 5, 6, 7, 8, 10, 12, 15, 16, 18, 18A, 20, 21, 22, 23, 25, 26, 28, 29, 30, 31, 32, 33, 35, 36, 37, 38, 40, 42, 43, 45, 47, 48, 49, 50.',\n",
       " 'Public Law 114-219 (07/29/2016), affecting titles 2, 7, 12, 21, 36, 37, 38, 40, 42.',\n",
       " 'Public Law 114-195 (07/20/2016), affecting titles 5, 6, 22, 26, 27, 28A, 49, 50.',\n",
       " 'Public Law 114-189 (07/06/2016), affecting titles 5, 10, 15, 23, 24, 26, 29, 31, 38, 41, 44, 48.',\n",
       " 'Public Law 114-183 (06/22/2016), affecting titles 5A, 15, 17, 18, 18A, 22, 25, 41, 42, 47, 49.',\n",
       " 'Public Law 114-165 (06/03/2016), affecting title 25.',\n",
       " 'Public Law 114-163 (05/20/2016), affecting titles 19, 33, 38, 42.',\n",
       " 'Public Law 114-156 (05/16/2016), affecting titles 2, 18, 21, 42.',\n",
       " 'Public Law 114-153 (05/11/2016), affecting titles 18, 28.',\n",
       " 'Public Law 114-152 (05/09/2016), affecting titles 19, 36.',\n",
       " 'Public Law 114-150 (04/29/2016), affecting titles 5, 20, 31, 46, 50.',\n",
       " 'Public Law 114-146 (04/19/2016), affecting titles 1, 2, 3, 4, 5A, 15, 16, 21, 42.',\n",
       " 'Public Law 114-143 (04/11/2016), affecting titles 6, 19, 50.',\n",
       " 'Public Law 114-141 (03/30/2016), affecting titles 19, 26, 33, 49.',\n",
       " 'Public Law 114-139 (03/18/2016), affecting titles 3, 5, 6, 7, 8, 10, 13, 14, 15, 16, 18, 19, 21, 22, 26, 28, 30, 33, 36, 38, 39, 42, 44, 46, 47, 49, 50.',\n",
       " 'Public Law 114-115 (12/28/2015), affecting titles 2, 7, 8, 10, 15, 20, 21, 23, 25, 26, 29, 31, 40, 42, 47, 49, 50.',\n",
       " 'Public Law 114-115 (12/28/2015), except 114-95, affecting titles 1, 2, 5, 5A, 6, 7, 8, 10, 12, 14, 15, 16, 18, 19, 20, 21, 22, 23, 25, 26, 28, 30, 31, 33, 38, 40, 41, 42, 43, 44, 46, 47, 48, 49, 50, 51, 54.',\n",
       " 'Public Law 114-114 (12/28/2015), except 114-95, 114-113, affecting titles 1, 5, 5A, 6, 7, 11, 12, 15, 16, 18, 19, 20, 21, 22, 23, 26, 30, 31, 33, 40, 42, 45, 46, 49, 50, 54.',\n",
       " 'Public Law 114-100 (12/16/2015), except 114-94, 114-95, affecting titles 5, 6, 7, 8, 10, 11A, 15, 18A, 20, 22, 26, 28, 28A, 31, 32, 33, 36, 37, 38, 39, 40, 41, 42, 46, 49, 50, 51.',\n",
       " 'Public Law 114-93 (11/25/2015), except 114-92, affecting titles 11A, 12, 15, 16, 18A, 21, 23, 26, 28A, 35, 42, 49, 51.',\n",
       " 'Public Law 114-86u1 (11/05/2015), affecting titles 1, 2, 3, 5, 6, 7, 8, 10, 12, 15, 16, 18, 19, 20, 22, 23, 25, 26, 28, 29, 30, 31, 33, 37, 38, 40, 41, 42, 43, 45, 46, 47, 48, 50, 50A.',\n",
       " 'Public Law 114-86 (11/05/2015), affecting titles 2, 5, 6, 7, 16, 26, 28, 29, 31, 40, 42, 47.',\n",
       " 'Public Law 114-73 (10/29/2015), affecting titles 16, 23, 26, 49.',\n",
       " 'Public Law 114-72 (10/22/2015), affecting title 13.',\n",
       " 'Public Law 114-71 (10/16/2015), affecting titles 6, 8, 22.',\n",
       " 'Public Law 114-67 (10/07/2015), affecting titles 5, 29, 40, 42, 44.',\n",
       " 'Public Law 114-58 (09/30/2015), affecting titles 5, 7, 10, 16, 20, 22, 26, 38, 42, 43, 49, 50, 51, 54.',\n",
       " 'Public Law 114-49 (08/07/2015), affecting titles 1, 3, 4, 5, 5A, 9, 10, 11, 11A, 13, 15, 16, 23, 26, 29, 38, 42 and 49.',\n",
       " 'Public Law 114-38 (07/28/2015), affecting title 15.',\n",
       " 'Public Law 114-37 (07/20/2015), affecting titles 7, 29, 38.',\n",
       " 'Public Law 114-30 (07/06/2015), affecting titles 6, 7, 8, 12, 15, 18, 19, 20, 26, 29, 31, 38, 42, 48, 50.',\n",
       " 'Public Law 114-25 (06/15/2015), affecting titles 12, 15, 18, 22, 50.',\n",
       " 'Public Law 114-22 (05/29/2015), affecting titles 6, 16, 18, 22, 23, 26, 28, 29, 31, 39, 42, 49.',\n",
       " 'Public Law 114-19 (05/22/2015), affecting titles 5, 26, 29, 38, 42.',\n",
       " 'Public Law 114-11 with additional updates (05/14/2015) affecting title 35.',\n",
       " 'Public Law 114-11 (04/30/2015), affecting titles 10, 16, 26, 42, 54.',\n",
       " 'Public Law 114-9 (04/07/2015), affecting titles 2, 6, 7, 12, 14, 15, 31, 38, 42, 44, 49.',\n",
       " 'Public Law 113-296 (12/19/2014), affecting titles 1, 3, 5, 5A, 7, 10, 14, 15, 16, 18, 20, 22, 23, 25, 26, 28, 30, 36, 40, 42, 43, 45, 46, 47, 48, 49, 54.',\n",
       " 'Public Law 113-296 (12/19/2014), except 113-287, affecting titles 5, 8, 10, 14, 15, 16, 20, 22, 24, 30, 31, 36, 37, 38, 40, 41, 42, 43, 44, 46, 49, 50, 50A, 52, 54.',\n",
       " 'Public Law 113-296 (12/19/2014), except 113-287, 113-291, affecting titles 5, 11, 12, 26, 29, 31, 42.',\n",
       " 'Public Law 113-296 (12/19/2014), except 113-287, 113-291, 113-295, affecting titles 1, 2, 4, 5, 5A, 6, 7, 8, 10, 12, 13, 15, 16, 18, 19, 20, 21, 22, 23, 25, 26, 28, 29, 30, 31, 33, 38, 39, 40, 41, 42, 43, 44, 47, 48, 49, 50, 50A, 51, 52.',\n",
       " 'Public Law 113-290 (12/19/2014), except 113-235, 113-287, affecting titles 5, 6, 10, 12, 14, 15, 16, 18, 21, 22, 25, 29, 33, 35, 44, 46, 50, 50A, 54.',\n",
       " 'Public Law 113-271 (12/18/2014), except 113-235, affecting titles 5, 6, 11A, 12, 15, 16, 18, 18A, 21, 22, 26, 28A, 36, 38, 42, 43, 49.',\n",
       " 'Public Law 113-234 (12/16/2014), affecting titles 21, 31, 35, 49.',\n",
       " 'Public Law 113-201 (12/04/2014), affecting titles 2, 6, 7, 10, 12, 14, 15, 16, 17, 19, 20, 21, 22, 26, 31, 33, 36, 38, 42, 44, 47, 49, 52.',\n",
       " 'Public Law 113-186 (11/19/2014), affecting titles 2, 7, 15, 20, 25, 31, 33, 37, 42, 50.',\n",
       " 'Public Law 113-185 with additional updates (11/06/2014), affecting titles 2, 5, 7, 10, 12, 16, 19, 21, 26, 28, 29, 31, 37, 38, 42, 43, 46.',\n",
       " 'Public Law 113-185 (10/06/2014), affecting titles 5, 10, 12, 15, 16, 19, 20, 24, 26, 28, 29, 38, 40, 42, 50A.',\n",
       " 'Public Law 113-165 (09/19/2014), affecting title 25.',\n",
       " 'Public Law 113-165 (09/19/2014), affecting titles 39, 49.',\n",
       " 'Public Law 113-163 with additional updates(09/02/2014), affecting titles 7, 15, 16, 19, 23, 26, 29, 37, 38, 42, 49.',\n",
       " 'Public Law 113-163 (08/28/2014), except 113-159, affecting titles 2, 3, 5, 5A, 6, 7, 8, 10, 12, 15, 18, 19, 20, 22, 26, 28, 29, 31, 36, 38, 39, 42, 47, 48, 49, 50, 50A, 52.',\n",
       " 'Public Law 113-145, except 113-128, with additional updates (08/20/2014) affecting title 35.',\n",
       " 'Public Law 113-145 (08/04/2014) , except 113-128, affecting titles 17, 21.',\n",
       " 'Public Law 113-142 (07/25/2014) , except 113-128, affecting title 16.',\n",
       " 'Public Law 113-126 (07/07/2014), affecting titles 5A, 14, 28, 33, 42, 50.',\n",
       " 'Public Law 113-125 (06/30/2014), affecting titles 16, 33, 40, 49.',\n",
       " 'Public Law 113-121 (06/10/2014), affecting titles 10, 16, 26, 33, 41, 42, 43.',\n",
       " 'Public Law 113-120 (06/10/2014), affecting titles 16, 31, 41, 42.',\n",
       " 'Public Law 113-108 (05/30/2014), affecting titles 18, 31.',\n",
       " 'Public Law 113-103 (05/16/2014), affecting titles 10, 30, 31, 38, 41, 42, 49.',\n",
       " 'Public Law 113-100 with additional updates (05/05/2014), affecting titles 10, 20.',\n",
       " 'Public Law 113-100 (04/18/2014), affecting title 8.',\n",
       " 'Public Law 113-99 (04/15/2014), affecting titles 2, 7, 12, 18, 19, 21, 22, 26, 29, 31, 33, 42, 44, 50.',\n",
       " 'Public Law 113-88 (03/21/2014), affecting titles 7, 12, 15, 16, 18, 19, 20, 21, 22, 25, 26, 31, 33, 40, 42, 43, 44, 48.',\n",
       " 'Public Law 113-86 (03/06/2014), except 113-79, affecting titles 1, 2, 5, 5A, 6, 7, 8, 10, 12, 14, 15, 16, 19, 20, 21, 22, 23, 25, 26, 28, 30, 31, 33, 40, 41, 42, 43, 44, 46, 48, 49, 50, 51.',\n",
       " 'Public Law 113-75 (01/16/2014), affecting titles 4, 5, 8, 10, 15, 16, 22, 32, 37, 38, 41, 42, 46, 49, 50, 50A.',\n",
       " 'Public Law 113-75 (01/16/2014), except 113-66, affecting titles 1, 2, 5, 6, 8, 10, 11A, 16, 18A, 19, 20, 22, 28, 28A, 29, 30, 31, 41, 42, 43, 46, 49.',\n",
       " 'Public Law 113-65 (12/20/2013), affecting titles 12, 28, 33, 38, 40, 42.',\n",
       " 'Public Law 113-56 (12/02/2013), affecting titles 21, 22, 42, 49.',\n",
       " 'Public Law 113-52 (11/21/2013), affecting titles 18, 27, 28, 29, 30, 31, 32, 38, 40, 42, 50.',\n",
       " 'Public Law 113-49 (11/13/2013), affecting title 42.',\n",
       " 'Public Law 113-47 (10/31/2013), affecting titles 18, 31.',\n",
       " 'Public Law 113-46 (10/17/2013), affecting titles 2, 6, 20, 22, 31, 42, 49, 50.',\n",
       " 'Public Law 113-45 (10/15/2013), affecting title 49.',\n",
       " 'Public Law 113-44 (10/10/2013), affecting titles 2, 8, 11A, 16, 21, 22, 30, 38, 42, 50.',\n",
       " 'Public Law 113-36 (09/18/2013), affecting titles 10, 12, 16, 18, 18A, 21, 25, 29, 38, 42, 48, 50.',\n",
       " 'Public Law 113-31 (08/09/2013), affecting titles 12, 14, 16, 20, 21, 22, 23, 25, 26, 38, 40, 43, 47, 49, and 50.',\n",
       " 'Public Law 113-21 (07/18/2013), affecting titles 5, 16, 18, 22, 33, 36, and 50']"
      ]
     },
     "execution_count": 61,
     "metadata": {},
     "output_type": "execute_result"
    }
   ],
   "source": [
    "# I found the url for the titles that have changed\n",
    "\n",
    "url = 'https://uscode.house.gov/download/priorreleasepoints.htm' \n",
    "\n",
    "html = requests.get(url).content\n",
    "soup = BeautifulSoup(html,'html')\n",
    "\n",
    "\n",
    "tags = ['a', 'releasepoint']\n",
    "soup.find_all(tags)\n",
    "soup\n",
    "\n",
    "text = [element.text for element in soup.find_all(tags)]\n",
    "\n",
    "# getting rid of the empty strings\n",
    "\n",
    "text = [i for i in text if i]\n",
    "\n",
    "text[3:-3]\n",
    "   "
   ]
  },
  {
   "cell_type": "markdown",
   "metadata": {},
   "source": [
    "#### Find a Python list with the top ten FBI's Most Wanted names."
   ]
  },
  {
   "cell_type": "code",
   "execution_count": 14,
   "metadata": {},
   "outputs": [],
   "source": [
    "# This is the url you will scrape in this exercise\n",
    "url = 'https://www.fbi.gov/wanted/topten'\n"
   ]
  },
  {
   "cell_type": "code",
   "execution_count": 15,
   "metadata": {
    "scrolled": false
   },
   "outputs": [
    {
     "data": {
      "text/plain": [
       "['ALEXIS FLORES',\n",
       " 'EUGENE PALMER',\n",
       " 'RAFAEL CARO-QUINTERO',\n",
       " 'ROBERT WILLIAM FISHER',\n",
       " 'BHADRESHKUMAR CHETANBHAI PATEL',\n",
       " 'ALEJANDRO ROSALES CASTILLO',\n",
       " 'ARNOLDO JIMENEZ',\n",
       " 'JASON DEREK BROWN',\n",
       " 'YASER ABDEL SAID',\n",
       " 'SANTIAGO VILLALBA MEDEROS']"
      ]
     },
     "execution_count": 15,
     "metadata": {},
     "output_type": "execute_result"
    }
   ],
   "source": [
    "# your code here\n",
    "\n",
    "html = requests.get(url).content\n",
    "soup = BeautifulSoup(html, 'html.parser')\n",
    "\n",
    "soup\n",
    "\n",
    "lst = soup.find_all('h3', {'class':'title'})\n",
    "lst\n",
    "\n",
    "tags= ['h3']\n",
    "text = [element.text for element in soup.find_all(tags)]\n",
    "\n",
    "text = list(map(lambda x:x.strip().split('\\n'),text))\n",
    "\n",
    "flat_list = [item for sublist in text for item in sublist]\n",
    "\n",
    "flat_list"
   ]
  },
  {
   "cell_type": "markdown",
   "metadata": {},
   "source": [
    "####  Display the 20 latest earthquakes info (date, time, latitude, longitude and region name) by the EMSC as a pandas dataframe."
   ]
  },
  {
   "cell_type": "code",
   "execution_count": 64,
   "metadata": {},
   "outputs": [],
   "source": [
    "# This is the url you will scrape in this exercise\n",
    "url = 'https://www.emsc-csem.org/Earthquake/'"
   ]
  },
  {
   "cell_type": "code",
   "execution_count": 65,
   "metadata": {
    "scrolled": true
   },
   "outputs": [
    {
     "data": {
      "text/plain": [
       "[['Current time: 2020-08-17 19:36:35 UTC', 'Member access', 'Name', 'Pwd'],\n",
       " ['Member access'],\n",
       " [],\n",
       " ['Name'],\n",
       " [],\n",
       " ['Pwd'],\n",
       " [],\n",
       " [],\n",
       " ['- Sorting by column is performed on the data of the current page.Glossary'],\n",
       " [],\n",
       " ['CitizenResponseDate & Time UTCLatitude degreesLongitude degreesDepth kmMag  [+]Region name  [+]Last update [-]'],\n",
       " [],\n",
       " [],\n",
       " ['12345678910›»'],\n",
       " ['earthquake2020-08-1719:18:38.017min ago8.43N126.74E22 M3.1MINDANAO, PHILIPPINES2020-08-17 19:33'],\n",
       " ['earthquake2020-08-1718:30:12.91hr 06min ago52.54S26.54E10mb4.9SOUTH OF AFRICA2020-08-17 18:45'],\n",
       " ['earthquake2020-08-1718:13:04.01hr 23min ago7.27N126.98E26 M3.1MINDANAO, PHILIPPINES2020-08-17 18:30'],\n",
       " ['earthquake2020-08-1717:59:19.01hr 37min ago16.53N94.68W112 M4.1OAXACA, MEXICO2020-08-17 18:30'],\n",
       " ['earthquake2020-08-1717:56:04.01hr 40min ago21.48S68.47W134ML3.0ANTOFAGASTA, CHILE2020-08-17 18:11'],\n",
       " ['earthquake2020-08-1717:41:09.01hr 55min ago5.26N126.60E15 M3.2MINDANAO, PHILIPPINES2020-08-17 17:52'],\n",
       " ['earthquake2020-08-1717:35:07.22hr 01min ago36.67N120.18W1MD2.5CENTRAL CALIFORNIA2020-08-17 17:36'],\n",
       " ['earthquake2020-08-1717:34:31.82hr 02min ago31.49N115.70W8Ml3.8BAJA CALIFORNIA, MEXICO2020-08-17 18:42'],\n",
       " ['earthquake2020-08-1717:29:20.82hr 07min ago31.49N115.71W8Ml2.6BAJA CALIFORNIA, MEXICO2020-08-17 19:02'],\n",
       " ['earthquake2020-08-1717:08:23.02hr 28min ago33.87S72.03W16ML3.2OFFSHORE VALPARAISO, CHILE2020-08-17 17:35'],\n",
       " ['earthquake2020-08-1717:06:37.22hr 29min ago33.04N116.01W11ML2.1SOUTHERN CALIFORNIA2020-08-17 17:43'],\n",
       " ['earthquake2020-08-1717:05:07.02hr 31min ago31.48N115.68W10ML2.7BAJA CALIFORNIA, MEXICO2020-08-17 17:41'],\n",
       " ['earthquake2020-08-1717:04:30.42hr 32min ago44.46N11.29E25ML2.4NORTHERN ITALY2020-08-17 17:25'],\n",
       " ['earthquake2020-08-1717:02:19.02hr 34min ago33.86S72.11W17ML3.7OFFSHORE VALPARAISO, CHILE2020-08-17 17:22'],\n",
       " ['earthquake2020-08-1716:57:15.42hr 39min ago19.24N155.42W31Md2.2ISLAND OF HAWAII, HAWAII2020-08-17 17:00'],\n",
       " ['earthquake2020-08-1716:54:26.22hr 42min ago57.36N153.68W35ML2.7KODIAK ISLAND REGION, ALASKA2020-08-17 19:00'],\n",
       " ['earthquake2020-08-1716:52:30.02hr 44min ago49.04N155.36E60mb3.9KURIL ISLANDS2020-08-17 18:20'],\n",
       " ['earthquake2020-08-1716:51:39.12hr 44min ago31.55N115.62W8Ml2.2BAJA CALIFORNIA, MEXICO2020-08-17 19:10'],\n",
       " ['earthquake2020-08-1716:40:31.82hr 56min ago19.23N155.41W30Md2.5ISLAND OF HAWAII, HAWAII2020-08-17 17:14'],\n",
       " ['Fearthquake2020-08-1716:38:01.72hr 58min ago31.56N115.72W10ML2.5BAJA CALIFORNIA, MEXICO2020-08-17 19:23'],\n",
       " ['Fearthquake2020-08-1716:35:19.93hr 01min ago31.47N115.71W8Ml3.2BAJA CALIFORNIA, MEXICO2020-08-17 17:28'],\n",
       " ['earthquake2020-08-1716:31:51.13hr 04min ago30.39N94.85E5mb4.8EASTERN XIZANG2020-08-17 17:23'],\n",
       " ['Fearthquake2020-08-1716:29:49.43hr 06min ago31.27N115.67W10Mw3.7BAJA CALIFORNIA, MEXICO2020-08-17 18:22'],\n",
       " ['earthquake2020-08-1716:27:12.03hr 09min ago16.52N95.15W5 M4.0OAXACA, MEXICO2020-08-17 16:55'],\n",
       " ['earthquake2020-08-1716:25:15.83hr 11min ago31.53N115.58W9ML2.6BAJA CALIFORNIA, MEXICO2020-08-17 16:56'],\n",
       " ['earthquake2020-08-1716:22:58.53hr 13min ago31.56N115.69W3ML2.3BAJA CALIFORNIA, MEXICO2020-08-17 19:33'],\n",
       " ['earthquake2020-08-1716:15:41.13hr 20min ago36.03N31.57E30ML2.9WESTERN TURKEY2020-08-17 17:28'],\n",
       " ['earthquake2020-08-1716:12:51.03hr 23min ago21.32S68.81W120ML2.9ANTOFAGASTA, CHILE2020-08-17 16:32'],\n",
       " ['earthquake2020-08-1716:11:04.33hr 25min ago31.53N115.69W9Ml2.5BAJA CALIFORNIA, MEXICO2020-08-17 18:19'],\n",
       " ['earthquake2020-08-1716:05:12.53hr 31min ago31.54N115.68W2Ml2.8BAJA CALIFORNIA, MEXICO2020-08-17 17:50'],\n",
       " ['earthquake2020-08-1716:01:20.93hr 35min ago31.59N115.70W10ML2.3BAJA CALIFORNIA, MEXICO2020-08-17 18:53'],\n",
       " ['earthquake2020-08-1715:59:44.03hr 36min ago33.86S72.08W15ML2.5OFFSHORE VALPARAISO, CHILE2020-08-17 17:36'],\n",
       " ['earthquake2020-08-1715:57:10.73hr 39min ago31.47N115.63W9Ml2.5BAJA CALIFORNIA, MEXICO2020-08-17 17:54'],\n",
       " ['earthquake2020-08-1715:50:36.03hr 45min ago33.87S72.08W15ML2.7OFFSHORE VALPARAISO, CHILE2020-08-17 16:17'],\n",
       " ['earthquake2020-08-1715:46:39.03hr 49min ago33.85S72.11W15ML2.5OFFSHORE VALPARAISO, CHILE2020-08-17 16:01'],\n",
       " ['earthquake2020-08-1715:45:11.33hr 51min ago45.61N26.45E149ML3.6ROMANIA2020-08-17 16:28'],\n",
       " ['earthquake2020-08-1715:35:28.74hr 01min ago19.23N155.41W33ML2.1ISLAND OF HAWAII, HAWAII2020-08-17 15:41'],\n",
       " ['earthquake2020-08-1715:33:09.44hr 03min ago19.24N155.42W32Ml2.6ISLAND OF HAWAII, HAWAII2020-08-17 15:38'],\n",
       " ['3IIIearthquake2020-08-1715:32:41.14hr 03min ago31.39N115.60W10Mw4.3BAJA CALIFORNIA, MEXICO2020-08-17 16:31'],\n",
       " ['Fearthquake2020-08-1715:31:41.84hr 04min ago31.55N115.67W10ML4.2BAJA CALIFORNIA, MEXICO2020-08-17 16:37'],\n",
       " ['44IVearthquake2020-08-1715:30:32.84hr 06min ago31.54N115.66W10Mw5.2BAJA CALIFORNIA, MEXICO2020-08-17 15:53'],\n",
       " ['earthquake2020-08-1715:29:51.14hr 06min ago19.25N155.44W39ML2.6ISLAND OF HAWAII, HAWAII2020-08-17 18:39'],\n",
       " ['earthquake2020-08-1715:25:55.94hr 10min ago19.17N155.47W35Md2.0ISLAND OF HAWAII, HAWAII2020-08-17 15:30'],\n",
       " ['10IVearthquake2020-08-1715:09:03.94hr 27min ago31.36N115.55W10Mw4.4BAJA CALIFORNIA, MEXICO2020-08-17 15:45'],\n",
       " ['earthquake2020-08-1715:01:10.04hr 35min ago10.73N121.24E19 M3.0PANAY, PHILIPPINES2020-08-17 15:30'],\n",
       " ['earthquake2020-08-1714:07:44.05hr 28min ago6.21N127.00E31 M3.1PHILIPPINE ISLANDS REGION2020-08-17 14:15'],\n",
       " ['earthquake2020-08-1713:34:46.06hr 01min ago9.09N126.12E54 M3.3MINDANAO, PHILIPPINES2020-08-17 13:50'],\n",
       " ['earthquake2020-08-1713:30:41.06hr 05min ago15.34N96.60W28 M4.0OFFSHORE OAXACA, MEXICO2020-08-17 14:00'],\n",
       " ['earthquake2020-08-1713:30:00.06hr 06min ago8.87N126.53E30 M3.1MINDANAO, PHILIPPINES2020-08-17 13:45'],\n",
       " ['earthquake2020-08-1713:23:42.26hr 12min ago38.82N122.79W9ML2.7NORTHERN CALIFORNIA2020-08-17 18:29'],\n",
       " [],\n",
       " ['12345678910›»'],\n",
       " []]"
      ]
     },
     "execution_count": 65,
     "metadata": {},
     "output_type": "execute_result"
    }
   ],
   "source": [
    "# your code here\n",
    "\n",
    "html = requests.get(url).content\n",
    "\n",
    "soup_earth = BeautifulSoup(html,'html.parser')\n",
    "soup_earth\n",
    "\n",
    "tags= ['table', 'table region']\n",
    "text = [element.text for element in soup_earth.find_all(tags)]\n",
    "\n",
    "rows = soup_earth.find_all('tr')\n",
    "\n",
    "rows = [row.text.strip().replace('\\xa0', '').split('\\n') for row in rows]\n",
    "\n",
    "rows = [[x for x in row if x != ''] for row in rows]\n",
    "\n",
    "rows\n",
    "\n",
    "# I got the table but I couldn't put the rows in a table to be able to select the latest 20"
   ]
  },
  {
   "cell_type": "markdown",
   "metadata": {},
   "source": [
    "#### Count the number of tweets by a given Twitter account.\n",
    "Ask the user for the handle (@handle) of a twitter account. You will need to include a ***try/except block*** for account names not found. \n",
    "<br>***Hint:*** the program should count the number of tweets for any provided account."
   ]
  },
  {
   "cell_type": "code",
   "execution_count": null,
   "metadata": {},
   "outputs": [],
   "source": [
    "# This is the url you will scrape in this exercise \n",
    "# You will need to add the account credentials to this url\n",
    "url = 'https://twitter.com/'"
   ]
  },
  {
   "cell_type": "code",
   "execution_count": null,
   "metadata": {},
   "outputs": [],
   "source": [
    "# your code here\n",
    "\n",
    "#I couldn’t figure out what to do after this\n",
    "\n",
    "import requests\n",
    "handle = input('What is the account Twitter: ')\n",
    "response = requests.get('https://twitter.com/'+ handle)\n",
    "soup = BeautifulSoup(response.content,'lxml')\n",
    "  "
   ]
  },
  {
   "cell_type": "markdown",
   "metadata": {},
   "source": [
    "#### Number of followers of a given twitter account\n",
    "Ask the user for the handle (@handle) of a twitter account. You will need to include a ***try/except block*** for account names not found. \n",
    "<br>***Hint:*** the program should count the followers for any provided account."
   ]
  },
  {
   "cell_type": "code",
   "execution_count": null,
   "metadata": {},
   "outputs": [],
   "source": [
    "# This is the url you will scrape in this exercise \n",
    "# You will need to add the account credentials to this url\n",
    "url = 'https://twitter.com/'"
   ]
  },
  {
   "cell_type": "code",
   "execution_count": null,
   "metadata": {},
   "outputs": [],
   "source": [
    "# your code here"
   ]
  },
  {
   "cell_type": "markdown",
   "metadata": {},
   "source": [
    "#### List all language names and number of related articles in the order they appear in wikipedia.org."
   ]
  },
  {
   "cell_type": "code",
   "execution_count": 55,
   "metadata": {},
   "outputs": [],
   "source": [
    "# This is the url you will scrape in this exercise\n",
    "url = 'https://www.wikipedia.org/'\n"
   ]
  },
  {
   "cell_type": "code",
   "execution_count": 54,
   "metadata": {},
   "outputs": [
    {
     "data": {
      "text/plain": [
       "['English',\n",
       " '日本語',\n",
       " 'Español',\n",
       " 'Deutsch',\n",
       " 'Русский',\n",
       " 'Français',\n",
       " 'Italiano',\n",
       " '中文',\n",
       " 'Português',\n",
       " 'Polski']"
      ]
     },
     "execution_count": 54,
     "metadata": {},
     "output_type": "execute_result"
    }
   ],
   "source": [
    "# your code here\n",
    "\n",
    "html = requests.get(url).content\n",
    "soup_lang = BeautifulSoup(html,'html')\n",
    "\n",
    "\n",
    "tags= ['h2', 'strong']\n",
    "text = [element.text for element in soup_lang.find_all(tags)]\n",
    "\n",
    "\n",
    "# Got the names but i couldn’t find the class for the number of the articles\n",
    "\n",
    "tags2= ['small']\n",
    "text2 = [element.text for element in soup_lang.find_all(tags)]\n",
    "\n",
    "text[1:11]"
   ]
  },
  {
   "cell_type": "markdown",
   "metadata": {},
   "source": [
    "#### A list with the different kind of datasets available in data.gov.uk."
   ]
  },
  {
   "cell_type": "code",
   "execution_count": 29,
   "metadata": {},
   "outputs": [],
   "source": [
    "# This is the url you will scrape in this exercise\n",
    "url = 'https://data.gov.uk/'"
   ]
  },
  {
   "cell_type": "code",
   "execution_count": 30,
   "metadata": {},
   "outputs": [
    {
     "data": {
      "text/plain": [
       "['Business and economy',\n",
       " 'Crime and justice',\n",
       " 'Defence',\n",
       " 'Education',\n",
       " 'Environment',\n",
       " 'Government',\n",
       " 'Government spending',\n",
       " 'Health',\n",
       " 'Mapping',\n",
       " 'Society',\n",
       " 'Towns and cities',\n",
       " 'Transport']"
      ]
     },
     "execution_count": 30,
     "metadata": {},
     "output_type": "execute_result"
    }
   ],
   "source": [
    "# your code here\n",
    "\n",
    "html = requests.get(url).content\n",
    "\n",
    "soup_uk = BeautifulSoup(html,'html')\n",
    "soup_uk\n",
    "\n",
    "tags= ['h3', 'govuk-heading-s dgu-topics__heading']\n",
    "text = [element.text for element in soup_uk.find_all(tags)]\n",
    "\n",
    "text\n"
   ]
  },
  {
   "cell_type": "markdown",
   "metadata": {},
   "source": [
    "#### Display the top 10 languages by number of native speakers stored in a pandas dataframe."
   ]
  },
  {
   "cell_type": "code",
   "execution_count": 31,
   "metadata": {},
   "outputs": [],
   "source": [
    "# This is the url you will scrape in this exercise\n",
    "url = 'https://en.wikipedia.org/wiki/List_of_languages_by_number_of_native_speakers'\n"
   ]
  },
  {
   "cell_type": "code",
   "execution_count": 32,
   "metadata": {},
   "outputs": [
    {
     "data": {
      "text/html": [
       "<div>\n",
       "<style scoped>\n",
       "    .dataframe tbody tr th:only-of-type {\n",
       "        vertical-align: middle;\n",
       "    }\n",
       "\n",
       "    .dataframe tbody tr th {\n",
       "        vertical-align: top;\n",
       "    }\n",
       "\n",
       "    .dataframe thead th {\n",
       "        text-align: right;\n",
       "    }\n",
       "</style>\n",
       "<table border=\"1\" class=\"dataframe\">\n",
       "  <thead>\n",
       "    <tr style=\"text-align: right;\">\n",
       "      <th></th>\n",
       "      <th>Rank</th>\n",
       "      <th></th>\n",
       "      <th>Language</th>\n",
       "      <th></th>\n",
       "      <th>Speakers(millions)</th>\n",
       "      <th></th>\n",
       "      <th>% of World pop.(March 2019)[8]</th>\n",
       "      <th></th>\n",
       "      <th>Language family</th>\n",
       "      <th></th>\n",
       "      <th>Branch</th>\n",
       "    </tr>\n",
       "  </thead>\n",
       "  <tbody>\n",
       "    <tr>\n",
       "      <th>0</th>\n",
       "      <td>1</td>\n",
       "      <td></td>\n",
       "      <td>Mandarin Chinese</td>\n",
       "      <td></td>\n",
       "      <td>918</td>\n",
       "      <td></td>\n",
       "      <td>11.922</td>\n",
       "      <td></td>\n",
       "      <td>Sino-Tibetan</td>\n",
       "      <td></td>\n",
       "      <td>Sinitic</td>\n",
       "    </tr>\n",
       "    <tr>\n",
       "      <th>1</th>\n",
       "      <td>2</td>\n",
       "      <td></td>\n",
       "      <td>Spanish</td>\n",
       "      <td></td>\n",
       "      <td>480</td>\n",
       "      <td></td>\n",
       "      <td>5.994</td>\n",
       "      <td></td>\n",
       "      <td>Indo-European</td>\n",
       "      <td></td>\n",
       "      <td>Romance</td>\n",
       "    </tr>\n",
       "    <tr>\n",
       "      <th>2</th>\n",
       "      <td>3</td>\n",
       "      <td></td>\n",
       "      <td>English</td>\n",
       "      <td></td>\n",
       "      <td>379</td>\n",
       "      <td></td>\n",
       "      <td>4.922</td>\n",
       "      <td></td>\n",
       "      <td>Indo-European</td>\n",
       "      <td></td>\n",
       "      <td>Germanic</td>\n",
       "    </tr>\n",
       "    <tr>\n",
       "      <th>3</th>\n",
       "      <td>4</td>\n",
       "      <td></td>\n",
       "      <td>Hindi (Sanskritised Hindustani)[9]</td>\n",
       "      <td></td>\n",
       "      <td>341</td>\n",
       "      <td></td>\n",
       "      <td>4.429</td>\n",
       "      <td></td>\n",
       "      <td>Indo-European</td>\n",
       "      <td></td>\n",
       "      <td>Indo-Aryan</td>\n",
       "    </tr>\n",
       "    <tr>\n",
       "      <th>4</th>\n",
       "      <td>5</td>\n",
       "      <td></td>\n",
       "      <td>Bengali</td>\n",
       "      <td></td>\n",
       "      <td>228</td>\n",
       "      <td></td>\n",
       "      <td>2.961</td>\n",
       "      <td></td>\n",
       "      <td>Indo-European</td>\n",
       "      <td></td>\n",
       "      <td>Indo-Aryan</td>\n",
       "    </tr>\n",
       "    <tr>\n",
       "      <th>5</th>\n",
       "      <td>6</td>\n",
       "      <td></td>\n",
       "      <td>Portuguese</td>\n",
       "      <td></td>\n",
       "      <td>221</td>\n",
       "      <td></td>\n",
       "      <td>2.870</td>\n",
       "      <td></td>\n",
       "      <td>Indo-European</td>\n",
       "      <td></td>\n",
       "      <td>Romance</td>\n",
       "    </tr>\n",
       "    <tr>\n",
       "      <th>6</th>\n",
       "      <td>7</td>\n",
       "      <td></td>\n",
       "      <td>Russian</td>\n",
       "      <td></td>\n",
       "      <td>154</td>\n",
       "      <td></td>\n",
       "      <td>2.000</td>\n",
       "      <td></td>\n",
       "      <td>Indo-European</td>\n",
       "      <td></td>\n",
       "      <td>Balto-Slavic</td>\n",
       "    </tr>\n",
       "    <tr>\n",
       "      <th>7</th>\n",
       "      <td>8</td>\n",
       "      <td></td>\n",
       "      <td>Japanese</td>\n",
       "      <td></td>\n",
       "      <td>128</td>\n",
       "      <td></td>\n",
       "      <td>1.662</td>\n",
       "      <td></td>\n",
       "      <td>Japonic</td>\n",
       "      <td></td>\n",
       "      <td>Japanese</td>\n",
       "    </tr>\n",
       "    <tr>\n",
       "      <th>8</th>\n",
       "      <td>9</td>\n",
       "      <td></td>\n",
       "      <td>Western Punjabi[10]</td>\n",
       "      <td></td>\n",
       "      <td>92.7</td>\n",
       "      <td></td>\n",
       "      <td>1.204</td>\n",
       "      <td></td>\n",
       "      <td>Indo-European</td>\n",
       "      <td></td>\n",
       "      <td>Indo-Aryan</td>\n",
       "    </tr>\n",
       "    <tr>\n",
       "      <th>9</th>\n",
       "      <td>10</td>\n",
       "      <td></td>\n",
       "      <td>Marathi</td>\n",
       "      <td></td>\n",
       "      <td>83.1</td>\n",
       "      <td></td>\n",
       "      <td>1.079</td>\n",
       "      <td></td>\n",
       "      <td>Indo-European</td>\n",
       "      <td></td>\n",
       "      <td>Indo-Aryan</td>\n",
       "    </tr>\n",
       "  </tbody>\n",
       "</table>\n",
       "</div>"
      ],
      "text/plain": [
       "  Rank                              Language   Speakers(millions)    \\\n",
       "0    1                      Mandarin Chinese                  918     \n",
       "1    2                               Spanish                  480     \n",
       "2    3                               English                  379     \n",
       "3    4    Hindi (Sanskritised Hindustani)[9]                  341     \n",
       "4    5                               Bengali                  228     \n",
       "5    6                            Portuguese                  221     \n",
       "6    7                               Russian                  154     \n",
       "7    8                              Japanese                  128     \n",
       "8    9                   Western Punjabi[10]                 92.7     \n",
       "9   10                               Marathi                 83.1     \n",
       "\n",
       "  % of World pop.(March 2019)[8]   Language family          Branch  \n",
       "0                         11.922      Sino-Tibetan         Sinitic  \n",
       "1                          5.994     Indo-European         Romance  \n",
       "2                          4.922     Indo-European        Germanic  \n",
       "3                          4.429     Indo-European      Indo-Aryan  \n",
       "4                          2.961     Indo-European      Indo-Aryan  \n",
       "5                          2.870     Indo-European         Romance  \n",
       "6                          2.000     Indo-European    Balto-Slavic  \n",
       "7                          1.662           Japonic        Japanese  \n",
       "8                          1.204     Indo-European      Indo-Aryan  \n",
       "9                          1.079     Indo-European      Indo-Aryan  "
      ]
     },
     "execution_count": 32,
     "metadata": {},
     "output_type": "execute_result"
    }
   ],
   "source": [
    "# your code here\n",
    "\n",
    "html = requests.get(url).content\n",
    "soup_lang = BeautifulSoup(html,'html')\n",
    "soup_lang\n",
    "\n",
    "table = soup_lang.find_all('table',{'class':'wikitable sortable'})[0]\n",
    "\n",
    "rows = table.find_all('tr')\n",
    "rows = [row.text.strip().split(\"\\n\") for row in rows]\n",
    "rows\n",
    "\n",
    "colnames = rows[0]\n",
    "data = rows[1:]\n",
    " \n",
    "df = pd.DataFrame(data, columns=colnames)\n",
    "df.head(10)"
   ]
  },
  {
   "cell_type": "markdown",
   "metadata": {},
   "source": [
    "## Bonus\n",
    "#### Scrape a certain number of tweets of a given Twitter account."
   ]
  },
  {
   "cell_type": "code",
   "execution_count": null,
   "metadata": {},
   "outputs": [],
   "source": [
    "# This is the url you will scrape in this exercise \n",
    "# You will need to add the account credentials to this url\n",
    "url = 'https://twitter.com/'"
   ]
  },
  {
   "cell_type": "code",
   "execution_count": null,
   "metadata": {},
   "outputs": [],
   "source": [
    "# your code here"
   ]
  },
  {
   "cell_type": "markdown",
   "metadata": {},
   "source": [
    "#### Display IMDB's top 250 data (movie name, initial release, director name and stars) as a pandas dataframe."
   ]
  },
  {
   "cell_type": "code",
   "execution_count": null,
   "metadata": {},
   "outputs": [],
   "source": [
    "# This is the url you will scrape in this exercise \n",
    "url = 'https://www.imdb.com/chart/top'"
   ]
  },
  {
   "cell_type": "code",
   "execution_count": null,
   "metadata": {},
   "outputs": [],
   "source": [
    "# your code here"
   ]
  },
  {
   "cell_type": "markdown",
   "metadata": {},
   "source": [
    "#### Display the movie name, year and a brief summary of the top 10 random movies (IMDB) as a pandas dataframe."
   ]
  },
  {
   "cell_type": "code",
   "execution_count": null,
   "metadata": {},
   "outputs": [],
   "source": [
    "#This is the url you will scrape in this exercise\n",
    "url = 'http://www.imdb.com/chart/top'"
   ]
  },
  {
   "cell_type": "code",
   "execution_count": null,
   "metadata": {},
   "outputs": [],
   "source": [
    "# your code here"
   ]
  },
  {
   "cell_type": "markdown",
   "metadata": {},
   "source": [
    "#### Find the live weather report (temperature, wind speed, description and weather) of a given city."
   ]
  },
  {
   "cell_type": "code",
   "execution_count": null,
   "metadata": {},
   "outputs": [],
   "source": [
    "#https://openweathermap.org/current\n",
    "city = input('Enter the city: ')\n",
    "url = 'http://api.openweathermap.org/data/2.5/weather?'+'q='+city+'&APPID=b35975e18dc93725acb092f7272cc6b8&units=metric'"
   ]
  },
  {
   "cell_type": "code",
   "execution_count": null,
   "metadata": {},
   "outputs": [],
   "source": [
    "# your code here"
   ]
  },
  {
   "cell_type": "markdown",
   "metadata": {},
   "source": [
    "#### Find the book name, price and stock availability as a pandas dataframe."
   ]
  },
  {
   "cell_type": "code",
   "execution_count": null,
   "metadata": {},
   "outputs": [],
   "source": [
    "# This is the url you will scrape in this exercise. \n",
    "# It is a fictional bookstore created to be scraped. \n",
    "url = 'http://books.toscrape.com/'"
   ]
  },
  {
   "cell_type": "code",
   "execution_count": null,
   "metadata": {},
   "outputs": [],
   "source": [
    "# your code here"
   ]
  }
 ],
 "metadata": {
  "kernelspec": {
   "display_name": "Python 3",
   "language": "python",
   "name": "python3"
  },
  "language_info": {
   "codemirror_mode": {
    "name": "ipython",
    "version": 3
   },
   "file_extension": ".py",
   "mimetype": "text/x-python",
   "name": "python",
   "nbconvert_exporter": "python",
   "pygments_lexer": "ipython3",
   "version": "3.8.3"
  }
 },
 "nbformat": 4,
 "nbformat_minor": 2
}
