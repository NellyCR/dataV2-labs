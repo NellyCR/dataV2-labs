{
 "cells": [
  {
   "cell_type": "markdown",
   "metadata": {},
   "source": [

    "# Advanced Regular Expressions Lab\n",
    "\n",
    "Complete the following set of exercises to solidify your knowledge of regular expressions."

   ]
  },
  {
   "cell_type": "code",
   "execution_count": 1,
   "metadata": {},
   "outputs": [],
   "source": [

    "# Import reduce from functools, numpy and pandas\n",
    "\n",
    "import pandas as pd\n",
    "import numpy\n",
    "from functools import reduce"

   ]
  },
  {
   "cell_type": "markdown",
   "metadata": {},
   "source": [

    "# Challenge 1 - Mapping\n",
    "\n",
    "#### We will use the map function to clean up words in a book.\n",
    "\n",
    "In the following cell, we will read a text file containing the book The Prophet by Khalil Gibran."

   ]
  },
  {
   "cell_type": "code",

   "execution_count": 51,
   "metadata": {},
   "outputs": [],
   "source": [
    "text = \"This is going to be a sentence with a good number of vowels in it.\""
   ]
  },
  {
   "cell_type": "code",
   "execution_count": 52,
   "metadata": {
    "scrolled": true
   },
   "outputs": [
    {
     "name": "stdout",
     "output_type": "stream",
     "text": [
      "['i', 'i', 'o', 'i', 'o', 'e', 'a', 'e', 'e', 'e', 'i', 'a', 'o', 'o', 'u', 'e', 'o', 'o', 'e', 'i', 'i']\n"
     ]
    }
   ],
   "source": [
    "pattern = '[aeiou]'\n",
    "\n",
    "print(re.findall(pattern,text))"

   ]
  },
  {
   "cell_type": "markdown",
   "metadata": {},
   "source": [

    "#### Let's remove the first 568 words since they contain information about the book but are not part of the book itself. \n",
    "\n",
    "Do this by removing from `prophet` elements 0 through 567 of the list (you can also do this by keeping elements 568 through the last element)."

   ]
  },
  {
   "cell_type": "code",

   "execution_count": 72,
   "metadata": {},
   "outputs": [],
   "source": [
    "text2 = \"The puppy saw all the rest of the puppies playing and wanted to join them. I saw this and wanted a puppy of my own!\""
   ]
  },
  {
   "cell_type": "code",
   "execution_count": 74,
   "metadata": {
    "scrolled": true
   },

   "outputs": [
    {
     "name": "stdout",
     "output_type": "stream",
     "text": [

      "['puppy', 'puppies', 'puppy']\n"

     ]
    }
   ],
   "source": [

    "# your code here\n",
    "\n",
    "#len(prophet)\n",
    "\n",
    "print(prophet)\n"
   ]
  },
  {
   "cell_type": "code",
   "execution_count": 4,
   "metadata": {
    "scrolled": true
   },
   "outputs": [],
   "source": [
    "prophet1 = prophet[568:]\n",
    "#print(prophet1)"
   ]
  },
  {
   "cell_type": "markdown",
   "metadata": {},
   "source": [
    "If you look through the words, you will find that many words have a reference attached to them. For example, let's look at words 1 through 10."

   ]
  },
  {
   "cell_type": "code",

   "execution_count": 89,

   "metadata": {
    "scrolled": false
   },
   "outputs": [
    {

     "data": {
      "text/plain": [
       "['PROPHET\\n\\n|Almustafa,',\n",
       " 'the{7}',\n",
       " 'chosen',\n",
       " 'and',\n",
       " 'the\\nbeloved,',\n",
       " 'who',\n",
       " 'was',\n",
       " 'a',\n",
       " 'dawn',\n",
       " 'unto',\n",
       " 'his']"
      ]
     },
     "execution_count": 5,
     "metadata": {},
     "output_type": "execute_result"
    }
   ],
   "source": [
    "# your code here\n",
    "\n",
    "prophet2 = prophet1[:11]\n",
    "\n",
    "prophet2"

   ]
  },
  {
   "cell_type": "markdown",
   "metadata": {},
   "source": [

    "### 4. Use a regular expression to find and extract all words that begin with the letter \"r\" from the previous text."


   ]
  },
  {
   "cell_type": "code",

   "execution_count": 90,
   "metadata": {
    "scrolled": false
   },
   "outputs": [
    {
     "name": "stdout",
     "output_type": "stream",
     "text": [
      "['ran', 'relay', 'race', 'run']\n"
     ]
    }
   ],
   "source": [
    "pattern4 = \"r\\w*\"\n",
    "\n",
    "print(re.findall(pattern4,text3))\n",

    "\n"
   ]
  },
  {
   "cell_type": "markdown",
   "metadata": {},
   "source": [

    "### 5. Use a regular expression to find and substitute the letter \"i\" for the exclamation marks in the text below."

   ]
  },
  {
   "cell_type": "code",

   "execution_count": 7,

   "metadata": {},
   "outputs": [
    {
     "data": {
      "text/plain": [

       "'This is a sentence with special characters in it.'"
      ]
     },
     "execution_count": 91,

     "metadata": {},
     "output_type": "execute_result"
    }
   ],
   "source": [

    "text5 = \"Th!s !s a sentence w!th spec!al characters !n !t.\"\n",
    "\n",
    "\n",
    "re.sub('!', 'i', text5)"


   ]
  },
  {
   "cell_type": "markdown",
   "metadata": {},
   "source": [

    "### 6. Use a regular expression to find and extract words longer than 4 characters in the text below."


   ]
  },
  {
   "cell_type": "code",

   "execution_count": 8,
   "metadata": {},
   "outputs": [],
   "source": [
    "#def line_break(x):\n",
    "'''\n",
    "    Input: A string\n",
    "    Output: A list of strings split on the line break (\\n) character\n",
    "        \n",
    "    Example:\n",
    "    Input: 'the\\nbeloved'\n",
    "    Output: ['the', 'beloved']\n",
    "'''\n",
    "    \n",
    "    # your code here\n",
    "def line_break(x):\n",
    "    return x.split('\\n')\n",
    "\n",
    "    \n",
    "    "
   ]
  },
  {
   "cell_type": "markdown",
   "metadata": {},
   "source": [
    "Apply the `line_break` function to the `prophet_reference` list. Name the new list `prophet_line`."
   ]
  },
  {
   "cell_type": "code",
   "execution_count": 9,
   "metadata": {},
   "outputs": [],
   "source": [
    "# your code here\n",
    "def line_break(x):\n",
    "    return x.split('\\n')\n",
    "\n",
    "prophet_reference = [line_break(i) for i in prophet_reference]\n",
    "\n",
    "\n"
   ]
  },
  {
   "cell_type": "markdown",
   "metadata": {},
   "source": [
    "If you look at the elements of `prophet_line`, you will see that the function returned lists and not strings. Our list is now a list of lists. Flatten the list using list comprehension. Assign this new list to `prophet_flat`."

   ]
  },
  {
   "cell_type": "code",

   "execution_count": 97,
   "metadata": {},
   "outputs": [
    {
     "name": "stdout",
     "output_type": "stream",
     "text": [
      "['bet', 'bot', 'beat', 'bot', 'bat', 'but', 'bit']\n"
     ]
    }
   ],
   "source": [
    "pattern7 = \"b\\w+t\"\n",
    "# startst with b ends with t and some letter in it\n",
    "\n",
    "print(re.findall(pattern7,text7))"

   ]
  },
  {
   "cell_type": "markdown",
   "metadata": {},
   "source": [

    "### 8. Use a regular expression to find and extract all words that contain either \"ea\" or \"eo\" in them."

   ]
  },
  {
   "cell_type": "code",

   "execution_count": 155,
   "metadata": {},
   "outputs": [
    {
     "name": "stdout",
     "output_type": "stream",
     "text": [
      "['eaks', 'eople', 'ealize', 'eathtaking', 'early']\n"
     ]
    }
   ],
   "source": [
    "text8 = \"During many of the peaks and troughs of history, the people living it didn't fully realize what was unfolding. But we all know we're navigating breathtaking history: Nearly every day could be — maybe will be — a book.\"\n",
    "\n",
    "print(re.findall(\"ea\\w+|eo\\w+\",text8))\n",
    "\n",
    "#it does'tn print them if theres a word before ea or eo"
   ]
  },
  {
   "cell_type": "code",
   "execution_count": null,
   "metadata": {},
   "outputs": [],
   "source": []
  },
  {
   "cell_type": "markdown",
   "metadata": {},
   "source": [
    "### 9. Use a regular expression to find and extract all the capitalized words in the text below individually."

   ]
  },
  {
   "cell_type": "code",

   "execution_count": 104,
   "metadata": {},
   "outputs": [],
   "source": [
    "text9 = \"Teddy Roosevelt and Abraham Lincoln walk into a bar.\""
   ]
  },
  {
   "cell_type": "code",
   "execution_count": 121,
   "metadata": {
    "scrolled": true
   },
   "outputs": [
    {
     "name": "stdout",
     "output_type": "stream",
     "text": [
      "['Teddy', 'Roosevelt', 'Abraham', 'Lincoln']\n"
     ]
    }
   ],
   "source": [
    "pattern9= \"[A-Z]\\w*\"\n",
    "\n",
    "print(re.findall(pattern9,text9))"

   ]
  },
  {
   "cell_type": "markdown",
   "metadata": {},
   "source": [

    "### 10. Use a regular expression to find and extract all the sets of consecutive capitalized words in the text above."

   ]
  },
  {
   "cell_type": "code",

   "execution_count": 127,
   "metadata": {
    "scrolled": true
   },

   "outputs": [
    {
     "data": {
      "text/plain": [

       "['Teddy', 'Roosevelt', 'Abraham', 'Lincoln']"
      ]
     },
     "execution_count": 127,

     "metadata": {},
     "output_type": "execute_result"
    }
   ],
   "source": [

    "re.findall('([A-Z][\\w-]*(?:\\s+[A-Z][\\w-]*)+)', text9)\n",
    "re.findall('([A-Z][\\w-]*)', text9)"

   ]
  },
  {
   "cell_type": "markdown",
   "metadata": {},
   "source": [

    "# Challenge 3 - Reducing\n",
    "\n",
    "#### Now that we have significantly cleaned up our text corpus, let's use the `reduce()` function to put the words back together into one long string separated by spaces. \n",
    "\n",
    "We will start by writing a function that takes two strings and concatenates them together with a space between the two strings."

   ]
  },
  {
   "cell_type": "code",

   "execution_count": 141,

   "metadata": {},
   "outputs": [
    {
     "data": {
      "text/plain": [

       "'Roosevelt says to Lincoln, I will bet you $50 I can get the bartender to give me a free drink. Lincoln says, I am in!'"
      ]
     },
     "execution_count": 141,

     "metadata": {},
     "output_type": "execute_result"
    }
   ],
   "source": [

    "def concat_space(a, b):\n",
    "    '''\n",
    "    Input:Two strings\n",
    "    Output: A single string separated by a space\n",
    "        \n",
    "    Example:\n",
    "    Input: 'John', 'Smith'\n",
    "    Output: 'John Smith'\n",
    "    '''\n",
    "    \n",
    "# your code here\n",
    "    \n",
    "def concat_space(a,b):\n",
    "    return a + ' ' + b\n",
    "\n",
    "concat_space('John','Smith')\n",
    "\n"

   ]
  },
  {
   "cell_type": "markdown",
   "metadata": {},
   "source": [

    "### 12. Use a regular expression to find and extract all the numbers from the text below."

   ]
  },
  {
   "cell_type": "code",

   "execution_count": 113,
   "metadata": {},
   "outputs": [],
   "source": [
    "text12 = \"There were 30 students in the class. Of the 30 students, 14 were male and 16 were female. Only 10 students got A's on the exam.\"\n"
   ]
  },
  {
   "cell_type": "code",
   "execution_count": 114,

   "metadata": {},
   "outputs": [
    {
     "data": {
      "text/plain": [

       "\"There were  students in the class. Of the  students,  were male and  were female. Only  students got A's on the exam.\""
      ]
     },
     "execution_count": 114,

     "metadata": {},
     "output_type": "execute_result"
    }
   ],
   "source": [


    "# your code here\n",
    "\n",
    "# It does't print it right\n",
    "\n",
    "prophet_string = list(reduce(concat_space,prophet_filter))\n",
    "\n",
    "prophet_string"

   ]
  },
  {
   "cell_type": "markdown",
   "metadata": {},
   "source": [

    "### 13. Use a regular expression to find and extract all the social security numbers from the text below."

   ]
  },
  {
   "cell_type": "code",

   "execution_count": 142,
   "metadata": {},
   "outputs": [],
   "source": [
    "text13 = \"\"\"\n",
    "Henry's social security number is 876-93-2289 and his phone number is (847)789-0984.\n",
    "Darlene's social security number is 098-32-5295 and her phone number is (987)222-0901.\n",
    "\"\"\""


   ]
  },
  {
   "cell_type": "code",

   "execution_count": 117,
   "metadata": {},
   "outputs": [
    {
     "data": {
      "text/plain": [
       "['876-93-2289', '098-32-5295']"
      ]
     },
     "execution_count": 117,
     "metadata": {},
     "output_type": "execute_result"
    }
   ],
   "source": [
    "pattern = '\\d+-\\d+-\\d+'\n",
    "re.findall(pattern, text13)\n"

   ]
  },
  {
   "cell_type": "markdown",
   "metadata": {},
   "source": [

    "### 14. Use a regular expression to find and extract all the phone numbers from the text below."

   ]
  },
  {
   "cell_type": "code",

   "execution_count": 18,
   "metadata": {},
   "outputs": [],
   "source": [
    "def hourly(x):\n",
    "    '''\n",
    "    Input: A numerical value\n",
    "    Output: The value divided by 24\n",
    "        \n",
    "    Example:\n",
    "    Input: 48\n",
    "    Output: 2.0\n",
    "    '''\n",
    "    \n",
    "    # your code here"

   ]
  },
  {
   "cell_type": "markdown",
   "metadata": {},
   "source": [
<
    "Apply this function to the columns `Iws`, `Is`, and `Ir`. Store this new dataframe in the variable `pm25_hourly`."

   ]
  },
  {
   "cell_type": "code",

   "execution_count": 19,
   "metadata": {},
   "outputs": [],
   "source": [
    "# your code here"
   ]
  },
  {
   "cell_type": "markdown",
   "metadata": {},
   "source": [
    "#### Our last challenge will be to create an aggregate function and apply it to a select group of columns in our dataframe.\n",
    "\n",
    "Write a function that returns the standard deviation of a column divided by the length of a column minus 1. Since we are using pandas, do not use the `len()` function. One alternative is to use `count()`. Also, use the numpy version of standard deviation."

   ]
  },
  {
   "cell_type": "code",

   "execution_count": null,
   "metadata": {},
   "outputs": [],
   "source": []
=
  }
 ],
 "metadata": {
  "kernelspec": {
   "display_name": "Python 3",
   "language": "python",
   "name": "python3"
  },
  "language_info": {
   "codemirror_mode": {
    "name": "ipython",
    "version": 3
   },
   "file_extension": ".py",
   "mimetype": "text/x-python",
   "name": "python",
   "nbconvert_exporter": "python",
   "pygments_lexer": "ipython3",
   "version": "3.8.3"
  }
 },
 "nbformat": 4,
 "nbformat_minor": 2
}
