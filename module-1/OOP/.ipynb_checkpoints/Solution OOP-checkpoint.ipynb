{
 "cells": [
  {
   "cell_type": "markdown",
   "metadata": {},
   "source": [
    "Define a method/function that removes from a given array of integers all the values contained in a second array.\n",
    "\n",
    "Examples:\n",
    "l = List()\n",
    "\n",
    "integer_list =  [1, 1, 2 ,3 ,1 ,2, 3 ,4]\n",
    "values_list = [1, 3]\n",
    "l.remove_(integer_list, values_list) == [2, 2, 4]\n",
    "\n",
    "\n",
    "integer_list = [1, 1, 2 ,3 ,1 ,2 ,3 ,4, 4, 3 ,5, 6, 7, 2, 8]\n",
    "lst = [1, 3, 4, 2]\n",
    "l.remove_(integer_list, values_list) == [5, 6 ,7 ,8]\n",
    "\n"
   ]
  },
  {
   "cell_type": "code",
   "execution_count": 110,
   "metadata": {},
   "outputs": [
    {
     "data": {
      "text/plain": [
       "[2, 2, 4]"
      ]
     },
     "execution_count": 110,
     "metadata": {},
     "output_type": "execute_result"
    }
   ],
   "source": [
    "# Define a class\n",
    "\n",
    "list_one = [1, 1, 2 ,3 ,1 ,2, 3 ,4]\n",
    "list_two = [1, 3]\n",
    "\n",
    "integer_list = [1, 1, 2 ,3 ,1 ,2 ,3 ,4, 4, 3 ,5, 6, 7, 2, 8]\n",
    "digits_list = [1, 3, 4, 2]\n",
    "\n",
    "class Remove:\n",
    "       \n",
    "    def __init__(self, list1,list2):\n",
    "         self.lst1 = list1\n",
    "         self.lst2 = list2   \n",
    "        \n",
    "    def remove_list(lst1,lst2):\n",
    "        removed_list = [ i for i in lst1 if i not in lst2 ]\n",
    "        return removed_list\n",
    "    \n",
    "\n",
    "Remove.remove_list(list_one, list_two)    "
   ]
  },
  {
   "cell_type": "code",
   "execution_count": 111,
   "metadata": {
    "scrolled": true
   },
   "outputs": [
    {
     "data": {
      "text/plain": [
       "[5, 6, 7, 8]"
      ]
     },
     "execution_count": 111,
     "metadata": {},
     "output_type": "execute_result"
    }
   ],
   "source": [
    "Remove.remove_list(integer_list,digits_list) "
   ]
  },
  {
   "cell_type": "code",
   "execution_count": 136,
   "metadata": {
    "scrolled": true
   },
   "outputs": [],
   "source": [
    "import operator\n",
    "from collections import Counter\n",
    "\n",
    "\n",
    "\"\"\"\n",
    "We need a method in the List Class that may count specific digits from a given list of integers. \n",
    "\n",
    "Example: \n",
    "integers_list =  [1, 1, 2 ,3 ,1 ,2 ,3 ,4]\n",
    "digits_list = [1, 3]\n",
    "l.count_spec_digits(integers_list, digits_list) == [(1, 3), (3, 2)]\n",
    "\n",
    "\"\"\"\n",
    "\n",
    "\n",
    "class Remove:\n",
    "       \n",
    "    def __init__(self, list1,list2):\n",
    "         self.lst1 = list1\n",
    "         self.lst2 = list2   \n",
    "        \n",
    "    def remove_list(lst1,lst2):\n",
    "        removed_list = [ i for i in lst1 if i not in lst2 ]\n",
    "        return removed_list\n",
    "    \n",
    "    def count_specific_digits(lst1,lst2):    \n",
    "        for i in lst2:\n",
    "            results[i] = lst1.count(i) \n",
    "        return results\n",
    "     \n"
   ]
  },
  {
   "cell_type": "code",
   "execution_count": 135,
   "metadata": {},
   "outputs": [
    {
     "data": {
      "text/plain": [
       "{1: 3, 3: 2}"
      ]
     },
     "execution_count": 135,
     "metadata": {},
     "output_type": "execute_result"
    }
   ],
   "source": [
    "\n",
    "list1 =  [1, 1, 2 ,3 ,1 ,2 ,3 ,4]\n",
    "list2 = [1, 3]\n",
    "\n",
    "Remove.count_specific_digits(list1,list2)"
   ]
  },
  {
   "cell_type": "raw",
   "metadata": {},
   "source": [
    "Count the number of occurrences of each character and return it as a list of tuples in order of appearance. For empty output return an empty list.\n",
    "\n",
    "Example:\n",
    "\n",
    "ordered_count(\"abracadabra\") == [('a', 5), ('b', 2), ('r', 2), ('c', 1), ('d', 1)]"
   ]
  },
  {
   "cell_type": "code",
   "execution_count": 139,
   "metadata": {},
   "outputs": [
    {
     "name": "stdout",
     "output_type": "stream",
     "text": [
      "[('a', 5), ('b', 2), ('r', 2), ('c', 1), ('d', 1)]\n"
     ]
    }
   ],
   "source": [
    "from collections import Counter\n",
    "\n",
    "word= \"abracadabra\"\n",
    "\n",
    "class Remove:\n",
    "       \n",
    "    def __init__(self, list1,list2,string):\n",
    "         self.lst1 = list1\n",
    "         self.lst2 = list2 \n",
    "         self.word = string\n",
    "        \n",
    "    def remove_list(lst1,lst2):\n",
    "        removed_list = [ i for i in lst1 if i not in lst2 ]\n",
    "        return removed_list\n",
    "    \n",
    "    def count_specific_digits(lst1,lst2):    \n",
    "        for i in lst2:\n",
    "            results[i] = lst1.count(i) \n",
    "        return results\n",
    "    \n",
    "    def ordered_count(word):\n",
    "        result = Counter(word)\n",
    "        result2 = list(result.items()) \n",
    "        print(result2)\n",
    "\n",
    "Remove.ordered_count(word)\n",
    "\n"
   ]
  },
  {
   "cell_type": "code",
   "execution_count": null,
   "metadata": {},
   "outputs": [],
   "source": []
  }
 ],
 "metadata": {
  "kernelspec": {
   "display_name": "Python 3",
   "language": "python",
   "name": "python3"
  },
  "language_info": {
   "codemirror_mode": {
    "name": "ipython",
    "version": 3
   },
   "file_extension": ".py",
   "mimetype": "text/x-python",
   "name": "python",
   "nbconvert_exporter": "python",
   "pygments_lexer": "ipython3",
   "version": "3.8.3"
  }
 },
 "nbformat": 4,
 "nbformat_minor": 4
}
