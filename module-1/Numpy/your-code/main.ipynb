{
 "cells": [
  {
   "cell_type": "markdown",
   "metadata": {},
   "source": [
    "# Introduction to NumPy\n",
    "\n",
    "\n",
    "#### 1. Import NumPy under the name np."
   ]
  },
  {
   "cell_type": "code",
   "execution_count": 56,
   "metadata": {},
   "outputs": [],
   "source": [
    "import numpy as np\n"
   ]
  },
  {
   "cell_type": "markdown",
   "metadata": {},
   "source": [
    "#### 2. Print your NumPy version."
   ]
  },
  {
   "cell_type": "code",
   "execution_count": 57,
   "metadata": {},
   "outputs": [
    {
     "name": "stdout",
     "output_type": "stream",
     "text": [
      "1.19.1\n"
     ]
    }
   ],
   "source": [
    "# your code here\n",
    "\n",
    "print(np.__version__)"
   ]
  },
  {
   "cell_type": "markdown",
   "metadata": {},
   "source": [
    "#### 3. Generate a 2x3x5 3-dimensional array with random values. Assign the array to variable *a*.\n",
    "**Challenge**: there are at least three easy ways that use numpy to generate random arrays. How many ways can you find?"
   ]
  },
  {
   "cell_type": "code",
   "execution_count": 8,
   "metadata": {},
   "outputs": [],
   "source": [
    "# Method 1\n",
    "\n",
    "a = np.random.random((2,3,5))\n"
   ]
  },
  {
   "cell_type": "code",
   "execution_count": null,
   "metadata": {},
   "outputs": [],
   "source": [
    "# Method 2"
   ]
  },
  {
   "cell_type": "code",
   "execution_count": null,
   "metadata": {},
   "outputs": [],
   "source": [
    "# Method 3"
   ]
  },
  {
   "cell_type": "markdown",
   "metadata": {},
   "source": [
    "#### 4. Print *a*.\n"
   ]
  },
  {
   "cell_type": "code",
   "execution_count": 9,
   "metadata": {},
   "outputs": [
    {
     "name": "stdout",
     "output_type": "stream",
     "text": [
      "[[[0.92334844 0.95546333 0.3837068  0.37050831 0.78765271]\n",
      "  [0.22745699 0.07993455 0.14022902 0.37513633 0.41223459]\n",
      "  [0.98755707 0.816922   0.51418494 0.77326649 0.67206569]]\n",
      "\n",
      " [[0.83835962 0.9533165  0.99208408 0.09319057 0.28134257]\n",
      "  [0.24498259 0.31416729 0.14456683 0.78223996 0.20285123]\n",
      "  [0.8902721  0.50298882 0.98224573 0.66927149 0.05423517]]]\n"
     ]
    }
   ],
   "source": [
    "# your code here\n",
    "\n",
    "print(a)"
   ]
  },
  {
   "cell_type": "markdown",
   "metadata": {},
   "source": [
    "#### 5. Create a 5x2x3 3-dimensional array with all values equaling 1. Assign the array to variable *b*."
   ]
  },
  {
   "cell_type": "code",
   "execution_count": 11,
   "metadata": {},
   "outputs": [],
   "source": [
    "# your code here\n",
    "\n",
    "b = np.ones((5,2,3))"
   ]
  },
  {
   "cell_type": "markdown",
   "metadata": {},
   "source": [
    "#### 6. Print *b*.\n"
   ]
  },
  {
   "cell_type": "code",
   "execution_count": 12,
   "metadata": {},
   "outputs": [
    {
     "name": "stdout",
     "output_type": "stream",
     "text": [
      "[[[1. 1. 1.]\n",
      "  [1. 1. 1.]]\n",
      "\n",
      " [[1. 1. 1.]\n",
      "  [1. 1. 1.]]\n",
      "\n",
      " [[1. 1. 1.]\n",
      "  [1. 1. 1.]]\n",
      "\n",
      " [[1. 1. 1.]\n",
      "  [1. 1. 1.]]\n",
      "\n",
      " [[1. 1. 1.]\n",
      "  [1. 1. 1.]]]\n"
     ]
    }
   ],
   "source": [
    "# your code here\n",
    "b = np.ones((5,2,3))\n",
    "print(b)\n"
   ]
  },
  {
   "cell_type": "markdown",
   "metadata": {},
   "source": [
    "#### 7. Do *a* and *b* have the same size? How do you prove that in Python code?"
   ]
  },
  {
   "cell_type": "code",
   "execution_count": 15,
   "metadata": {},
   "outputs": [
    {
     "name": "stdout",
     "output_type": "stream",
     "text": [
      "30\n",
      "30\n"
     ]
    }
   ],
   "source": [
    "# your code here\n",
    "\n",
    "print(a.size)\n",
    "print(b.size)"
   ]
  },
  {
   "cell_type": "markdown",
   "metadata": {},
   "source": [
    "#### 8. Are you able to add *a* and *b*? Why or why not?\n"
   ]
  },
  {
   "cell_type": "code",
   "execution_count": 17,
   "metadata": {},
   "outputs": [
    {
     "ename": "ValueError",
     "evalue": "operands could not be broadcast together with shapes (2,3,5) (5,2,3) ",
     "output_type": "error",
     "traceback": [
      "\u001b[0;31m---------------------------------------------------------------------------\u001b[0m",
      "\u001b[0;31mValueError\u001b[0m                                Traceback (most recent call last)",
      "\u001b[0;32m<ipython-input-17-7404dd498f01>\u001b[0m in \u001b[0;36m<module>\u001b[0;34m\u001b[0m\n\u001b[1;32m      1\u001b[0m \u001b[0;31m# your answer here\u001b[0m\u001b[0;34m\u001b[0m\u001b[0;34m\u001b[0m\u001b[0;34m\u001b[0m\u001b[0m\n\u001b[1;32m      2\u001b[0m \u001b[0;34m\u001b[0m\u001b[0m\n\u001b[0;32m----> 3\u001b[0;31m \u001b[0mprint\u001b[0m\u001b[0;34m(\u001b[0m\u001b[0mnp\u001b[0m\u001b[0;34m.\u001b[0m\u001b[0madd\u001b[0m\u001b[0;34m(\u001b[0m\u001b[0ma\u001b[0m\u001b[0;34m,\u001b[0m\u001b[0mb\u001b[0m\u001b[0;34m)\u001b[0m\u001b[0;34m)\u001b[0m\u001b[0;34m\u001b[0m\u001b[0;34m\u001b[0m\u001b[0m\n\u001b[0m\u001b[1;32m      4\u001b[0m \u001b[0;34m\u001b[0m\u001b[0m\n\u001b[1;32m      5\u001b[0m \u001b[0;31m# No, because they don't have the same shape ; one is (2,3,5) and the other (5,2,3)\u001b[0m\u001b[0;34m\u001b[0m\u001b[0;34m\u001b[0m\u001b[0;34m\u001b[0m\u001b[0m\n",
      "\u001b[0;31mValueError\u001b[0m: operands could not be broadcast together with shapes (2,3,5) (5,2,3) "
     ]
    }
   ],
   "source": [
    "# your answer here\n",
    "\n",
    "print(np.add(a,b))\n",
    "\n",
    "# No, because they don't have the same shape ; a is (2,3,5) and b is (5,2,3)"
   ]
  },
  {
   "cell_type": "markdown",
   "metadata": {},
   "source": [
    "#### 9. Transpose *b* so that it has the same structure of *a* (i.e. become a 2x3x5 array). Assign the transposed array to variable *c*."
   ]
  },
  {
   "cell_type": "code",
   "execution_count": 30,
   "metadata": {},
   "outputs": [
    {
     "name": "stdout",
     "output_type": "stream",
     "text": [
      "[[[1. 1. 1. 1. 1.]\n",
      "  [1. 1. 1. 1. 1.]\n",
      "  [1. 1. 1. 1. 1.]]\n",
      "\n",
      " [[1. 1. 1. 1. 1.]\n",
      "  [1. 1. 1. 1. 1.]\n",
      "  [1. 1. 1. 1. 1.]]]\n",
      "\n",
      "[[[1. 1. 1. 1. 1.]\n",
      "  [1. 1. 1. 1. 1.]]\n",
      "\n",
      " [[1. 1. 1. 1. 1.]\n",
      "  [1. 1. 1. 1. 1.]]\n",
      "\n",
      " [[1. 1. 1. 1. 1.]\n",
      "  [1. 1. 1. 1. 1.]]]\n"
     ]
    }
   ],
   "source": [
    "# your code here\n",
    "\n",
    "# c = np.transpose(b,a).size => didn't work\n",
    "# b = np.transpose(b,a).shape => didn't work\n",
    "\n",
    "\n",
    "# solution 1\n",
    "c = np.ones((2,3,5))\n",
    "\n",
    "print(c)\n",
    "print()\n",
    "\n",
    "# solution2\n",
    "c2 = np.transpose(b)\n",
    "\n",
    "print(c2)"
   ]
  },
  {
   "cell_type": "markdown",
   "metadata": {},
   "source": [
    "#### 10. Try to add *a* and *c*. Now it should work. Assign the sum to variable *d*. But why does it work now?"
   ]
  },
  {
   "cell_type": "code",
   "execution_count": 25,
   "metadata": {},
   "outputs": [
    {
     "name": "stdout",
     "output_type": "stream",
     "text": [
      "[[[1.92334844 1.95546333 1.3837068  1.37050831 1.78765271]\n",
      "  [1.22745699 1.07993455 1.14022902 1.37513633 1.41223459]\n",
      "  [1.98755707 1.816922   1.51418494 1.77326649 1.67206569]]\n",
      "\n",
      " [[1.83835962 1.9533165  1.99208408 1.09319057 1.28134257]\n",
      "  [1.24498259 1.31416729 1.14456683 1.78223996 1.20285123]\n",
      "  [1.8902721  1.50298882 1.98224573 1.66927149 1.05423517]]]\n"
     ]
    }
   ],
   "source": [
    "# your code/answer here\n",
    "\n",
    "print(np.add(a,c))"
   ]
  },
  {
   "cell_type": "markdown",
   "metadata": {},
   "source": [
    "#### 11. Print *a* and *d*. Notice the difference and relation of the two array in terms of the values? Explain."
   ]
  },
  {
   "cell_type": "code",
   "execution_count": 27,
   "metadata": {},
   "outputs": [
    {
     "name": "stdout",
     "output_type": "stream",
     "text": [
      "[[[0.92334844 0.95546333 0.3837068  0.37050831 0.78765271]\n",
      "  [0.22745699 0.07993455 0.14022902 0.37513633 0.41223459]\n",
      "  [0.98755707 0.816922   0.51418494 0.77326649 0.67206569]]\n",
      "\n",
      " [[0.83835962 0.9533165  0.99208408 0.09319057 0.28134257]\n",
      "  [0.24498259 0.31416729 0.14456683 0.78223996 0.20285123]\n",
      "  [0.8902721  0.50298882 0.98224573 0.66927149 0.05423517]]]\n",
      "\n",
      "[[[1.92334844 1.95546333 1.3837068  1.37050831 1.78765271]\n",
      "  [1.22745699 1.07993455 1.14022902 1.37513633 1.41223459]\n",
      "  [1.98755707 1.816922   1.51418494 1.77326649 1.67206569]]\n",
      "\n",
      " [[1.83835962 1.9533165  1.99208408 1.09319057 1.28134257]\n",
      "  [1.24498259 1.31416729 1.14456683 1.78223996 1.20285123]\n",
      "  [1.8902721  1.50298882 1.98224573 1.66927149 1.05423517]]]\n"
     ]
    }
   ],
   "source": [
    "# your code/answer here\n",
    "\n",
    "d = np.add(a,c)\n",
    "\n",
    "print(a)\n",
    "print()\n",
    "print(d)\n",
    "\n",
    "# Both arrays have the same exact values , they are not being sum"
   ]
  },
  {
   "cell_type": "markdown",
   "metadata": {},
   "source": [
    "#### 12. Multiply *a* and *c*. Assign the result to *e*."
   ]
  },
  {
   "cell_type": "code",
   "execution_count": 32,
   "metadata": {},
   "outputs": [
    {
     "name": "stdout",
     "output_type": "stream",
     "text": [
      "[[[0.92334844 0.95546333 0.3837068  0.37050831 0.78765271]\n",
      "  [0.22745699 0.07993455 0.14022902 0.37513633 0.41223459]\n",
      "  [0.98755707 0.816922   0.51418494 0.77326649 0.67206569]]\n",
      "\n",
      " [[0.83835962 0.9533165  0.99208408 0.09319057 0.28134257]\n",
      "  [0.24498259 0.31416729 0.14456683 0.78223996 0.20285123]\n",
      "  [0.8902721  0.50298882 0.98224573 0.66927149 0.05423517]]]\n"
     ]
    }
   ],
   "source": [
    "# your code here\n",
    "\n",
    "e = np.multiply(a, c)\n",
    "\n",
    "print(e)"
   ]
  },
  {
   "cell_type": "markdown",
   "metadata": {},
   "source": [
    "#### 13. Does *e* equal to *a*? Why or why not?\n"
   ]
  },
  {
   "cell_type": "code",
   "execution_count": 33,
   "metadata": {},
   "outputs": [
    {
     "name": "stdout",
     "output_type": "stream",
     "text": [
      "[[[0.92334844 0.95546333 0.3837068  0.37050831 0.78765271]\n",
      "  [0.22745699 0.07993455 0.14022902 0.37513633 0.41223459]\n",
      "  [0.98755707 0.816922   0.51418494 0.77326649 0.67206569]]\n",
      "\n",
      " [[0.83835962 0.9533165  0.99208408 0.09319057 0.28134257]\n",
      "  [0.24498259 0.31416729 0.14456683 0.78223996 0.20285123]\n",
      "  [0.8902721  0.50298882 0.98224573 0.66927149 0.05423517]]]\n",
      "\n",
      "[[[0.92334844 0.95546333 0.3837068  0.37050831 0.78765271]\n",
      "  [0.22745699 0.07993455 0.14022902 0.37513633 0.41223459]\n",
      "  [0.98755707 0.816922   0.51418494 0.77326649 0.67206569]]\n",
      "\n",
      " [[0.83835962 0.9533165  0.99208408 0.09319057 0.28134257]\n",
      "  [0.24498259 0.31416729 0.14456683 0.78223996 0.20285123]\n",
      "  [0.8902721  0.50298882 0.98224573 0.66927149 0.05423517]]]\n"
     ]
    }
   ],
   "source": [
    "# your code/answer here\n",
    "\n",
    "# Yes e is equal to a \n",
    "# In exercise 11 it did't actually multiplied the values a*c, maybe because they had the same values ?\n",
    "\n",
    "print(e)\n",
    "print()\n",
    "print(a)"
   ]
  },
  {
   "cell_type": "markdown",
   "metadata": {},
   "source": [
    "#### 14. Identify the max, min, and mean values in *d*. Assign those values to variables *d_max*, *d_min* and *d_mean*."
   ]
  },
  {
   "cell_type": "code",
   "execution_count": 37,
   "metadata": {},
   "outputs": [
    {
     "name": "stdout",
     "output_type": "stream",
     "text": [
      "1.5455260603256835\n",
      "1.054235172427816\n",
      "1.9920840834869042\n"
     ]
    }
   ],
   "source": [
    "# your code here\n",
    "\n",
    "d_mean = np.mean(d)\n",
    "print(d_mean)\n",
    "\n",
    "d_min = np.min(d)\n",
    "print(d_min)\n",
    "\n",
    "d_max = np.max(d)\n",
    "print(d_max)"
   ]
  },
  {
   "cell_type": "markdown",
   "metadata": {},
   "source": [
    "15. Now we want to label the values in *d*. First create an empty array *f* with the same shape (i.e. 2x3x5) as *d* using `np.empty`.\n"
   ]
  },
  {
   "cell_type": "code",
   "execution_count": 65,
   "metadata": {},
   "outputs": [],
   "source": [
    "# your code here\n",
    "\n",
    "f = np.empty((2,3,5))\n",
    "\n",
    "\n",
    "\n"
   ]
  },
  {
   "cell_type": "markdown",
   "metadata": {},
   "source": [
    "#### 16. Populate the values in *f*. \n",
    "\n",
    "For each value in *d*, if it's larger than *d_min* but smaller than *d_mean*, assign 25 to the corresponding value in *f*. If a value in *d* is larger than *d_mean* but smaller than *d_max*, assign 75 to the corresponding value in *f*. If a value equals to *d_mean*, assign 50 to the corresponding value in *f*. Assign 0 to the corresponding value(s) in *f* for *d_min* in *d*. Assign 100 to the corresponding value(s) in *f* for *d_max* in *d*. In the end, f should have only the following values: 0, 25, 50, 75, and 100.\n",
    "\n",
    "**Note**: you don't have to use Numpy in this question."
   ]
  },
  {
   "cell_type": "code",
   "execution_count": 74,
   "metadata": {},
   "outputs": [
    {
     "ename": "ValueError",
     "evalue": "The truth value of an array with more than one element is ambiguous. Use a.any() or a.all()",
     "output_type": "error",
     "traceback": [
      "\u001b[0;31m---------------------------------------------------------------------------\u001b[0m",
      "\u001b[0;31mValueError\u001b[0m                                Traceback (most recent call last)",
      "\u001b[0;32m<ipython-input-74-4f34c7da68af>\u001b[0m in \u001b[0;36m<module>\u001b[0;34m\u001b[0m\n\u001b[1;32m     14\u001b[0m \u001b[0;34m\u001b[0m\u001b[0m\n\u001b[1;32m     15\u001b[0m \u001b[0;32mfor\u001b[0m \u001b[0mi\u001b[0m \u001b[0;32min\u001b[0m \u001b[0md\u001b[0m\u001b[0;34m:\u001b[0m\u001b[0;34m\u001b[0m\u001b[0;34m\u001b[0m\u001b[0m\n\u001b[0;32m---> 16\u001b[0;31m     \u001b[0;32mif\u001b[0m \u001b[0mi\u001b[0m \u001b[0;34m==\u001b[0m \u001b[0md_min\u001b[0m\u001b[0;34m:\u001b[0m\u001b[0;34m\u001b[0m\u001b[0;34m\u001b[0m\u001b[0m\n\u001b[0m\u001b[1;32m     17\u001b[0m         \u001b[0mi\u001b[0m \u001b[0;34m==\u001b[0m \u001b[0;36m0\u001b[0m\u001b[0;34m\u001b[0m\u001b[0;34m\u001b[0m\u001b[0m\n\u001b[1;32m     18\u001b[0m         \u001b[0mnew_f\u001b[0m\u001b[0;34m.\u001b[0m\u001b[0mappend\u001b[0m\u001b[0;34m(\u001b[0m\u001b[0mi\u001b[0m\u001b[0;34m)\u001b[0m\u001b[0;34m\u001b[0m\u001b[0;34m\u001b[0m\u001b[0m\n",
      "\u001b[0;31mValueError\u001b[0m: The truth value of an array with more than one element is ambiguous. Use a.any() or a.all()"
     ]
    }
   ],
   "source": [
    "# I could'nt get the loop to iterate through the array b\n",
    "\n",
    "# 25 if d = larger than d_min but smaller than d_mean\n",
    "# 75 if d = larger than d_mean but smaller than d_max\n",
    "# 50 if d = equals to d_mean\n",
    "# 0 if d = d_min\n",
    "\n",
    "new_f = [] \n",
    "\n",
    "d_mean = np.mean(d)\n",
    "d_min = np.min(d)\n",
    "d_max = np.max(d)\n",
    "\n",
    "\n",
    "for i in d: \n",
    "    if i == d_min:\n",
    "        i == 0\n",
    "        new_f.append(i)\n",
    "    if i >= d_min or i.any() <= d_mean:\n",
    "        i == 25\n",
    "        new_f.append(i)\n",
    "    elif i >= d_mean or i.any() <= d_max:\n",
    "        i == 75\n",
    "        new_f.append(i)\n",
    "    elif i.any() == d_mean: \n",
    "        i == 50\n",
    "        new_f.append(i)\n",
    "    elif i == d_max:\n",
    "        i == 100\n",
    "        new_f.append(i)\n",
    "\n",
    "print()\n",
    "print(new_f)\n",
    "            "
   ]
  },
  {
   "cell_type": "markdown",
   "metadata": {},
   "source": [
    "#### 17. Print *d* and *f*. Do you have your expected *f*?\n",
    "For instance, if your *d* is:\n",
    "```python\n",
    "[[[1.85836099, 1.67064465, 1.62576044, 1.40243961, 1.88454931],\n",
    "[1.75354326, 1.69403643, 1.36729252, 1.61415071, 1.12104981],\n",
    "[1.72201435, 1.1862918 , 1.87078449, 1.7726778 , 1.88180042]],\n",
    "[[1.44747908, 1.31673383, 1.02000951, 1.52218947, 1.97066381],\n",
    "[1.79129243, 1.74983003, 1.96028037, 1.85166831, 1.65450881],\n",
    "[1.18068344, 1.9587381 , 1.00656599, 1.93402165, 1.73514584]]]\n",
    "```\n",
    "Your *f* should be:\n",
    "```python\n",
    "[[[ 75.,  75.,  75.,  25.,  75.],\n",
    "[ 75.,  75.,  25.,  25.,  25.],\n",
    "[ 75.,  25.,  75.,  75.,  75.]],\n",
    "[[ 25.,  25.,  25.,  25., 100.],\n",
    "[ 75.,  75.,  75.,  75.,  75.],\n",
    "[ 25.,  75.,   0.,  75.,  75.]]]\n",
    "```"
   ]
  },
  {
   "cell_type": "markdown",
   "metadata": {},
   "source": [
    "#### 18. Bonus question: instead of using numbers (i.e. 0, 25, 50, 75, and 100), use string values  (\"A\", \"B\", \"C\", \"D\", and \"E\") to label the array elements. For the example above, the expected result is:\n",
    "\n",
    "```python\n",
    "[[[ 'D',  'D',  'D',  'B',  'D'],\n",
    "[ 'D',  'D',  'B',  'B',  'B'],\n",
    "[ 'D',  'B',  'D',  'D',  'D']],\n",
    "[[ 'B',  'B',  'B',  'B',  'E'],\n",
    "[ 'D',  'D',  'D',  'D',  'D'],\n",
    "[ 'B',  'D',   'A',  'D', 'D']]]\n",
    "```\n",
    "**Note**: you don't have to use Numpy in this question."
   ]
  },
  {
   "cell_type": "code",
   "execution_count": 31,
   "metadata": {},
   "outputs": [
    {
     "name": "stdout",
     "output_type": "stream",
     "text": [
      "[[75.0, 75.0, 75.0, 25.0, 75.0], [75.0, 75.0, 25.0, 25.0, 25.0], [75.0, 25.0, 75.0, 75.0, 75.0]]\n",
      "[25.0, 25.0, 25.0, 25.0, 100.0]\n",
      "[75.0, 75.0, 75.0, 75.0, 75.0]\n",
      "[25.0, 75.0, 0.0, 75.0, 75.0]\n",
      "[[25.0, 25.0, 25.0, 25.0, 100.0], [75.0, 75.0, 75.0, 75.0, 75.0], [25.0, 75.0, 0.0, 75.0, 75.0]]\n",
      "[25.0, 25.0, 25.0, 25.0, 100.0]\n",
      "[75.0, 75.0, 75.0, 75.0, 75.0]\n",
      "[25.0, 75.0, 0.0, 75.0, 75.0]\n",
      "[]\n"
     ]
    }
   ],
   "source": [
    "bonus = [[[ 75.,  75.,  75.,  25.,  75.],\n",
    "[ 75.,  75.,  25.,  25.,  25.],\n",
    "[ 75.,  25.,  75.,  75.,  75.]],\n",
    "[[ 25.,  25.,  25.,  25., 100.],\n",
    "[ 75.,  75.,  75.,  75.,  75.],\n",
    "[ 25.,  75.,   0.,  75.,  75.]]]\n",
    "\n",
    "new_bonus =[]\n",
    "\n",
    "# Unfortunately the loop can't replace the values for letters\n",
    "\n",
    "for i in bonus:\n",
    "    print(i)    \n",
    "    for number in groups:\n",
    "        print(number)\n",
    "        if number == 0:\n",
    "            number == \"A\"\n",
    "            new_bonus.append(number)\n",
    "        if number == 25:\n",
    "            number == \"B\"\n",
    "            new_bonus.append(number)\n",
    "        elif number == 50:\n",
    "            number == \"C\"\n",
    "            new_bonus.append(number)\n",
    "        elif number == 75: \n",
    "            number == \"D\"\n",
    "            new_bonus.append(number)\n",
    "        elif number == 100:\n",
    "            number == \"E\"\n",
    "            new_bonus.append(number)\n",
    "               \n",
    "\n",
    "print(new_bonus)"
   ]
  },
  {
   "cell_type": "code",
   "execution_count": null,
   "metadata": {},
   "outputs": [],
   "source": []
  }
 ],
 "metadata": {
  "kernelspec": {
   "display_name": "Python 3",
   "language": "python",
   "name": "python3"
  },
  "language_info": {
   "codemirror_mode": {
    "name": "ipython",
    "version": 3
   },
   "file_extension": ".py",
   "mimetype": "text/x-python",
   "name": "python",
   "nbconvert_exporter": "python",
   "pygments_lexer": "ipython3",
   "version": "3.8.3"
  }
 },
 "nbformat": 4,
 "nbformat_minor": 2
}
