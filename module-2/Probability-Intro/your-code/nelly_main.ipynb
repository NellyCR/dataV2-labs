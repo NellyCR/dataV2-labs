{
 "cells": [
  {
   "cell_type": "markdown",
   "metadata": {},
   "source": [
    "# Introduction To Probability\n",
    "## Challenge 1\n",
    "\n",
    "A and B are events of a probability space with $(\\omega, \\sigma, P)$ such that $P(A) = 0.3$, $P(B) = 0.6$ and $P(A \\cap B) = 0.1$\n",
    "\n",
    "Which of the following statements are false?\n",
    "* $P(A \\cup B) = 0.6$\n",
    "* $P(A \\cap B^{C}) = 0.2$\n",
    "* $P(A \\cap (B \\cup B^{C})) = 0.4$\n",
    "* $P(A^{C} \\cap B^{C}) = 0.3$\n",
    "* $P((A \\cap B)^{C}) = 0.9$"
   ]
  },
  {
   "cell_type": "code",
   "execution_count": null,
   "metadata": {},
   "outputs": [],
   "source": [
    "\"\"\"\n",
    "your solution here\n",
    "\n",
    "𝑃(𝐴∪𝐵)=0.6 since 𝑃(𝐴∪𝐵)= would be all the values that A and B have in common\n",
    "\n",
    "\"\"\""
   ]
  },
  {
   "cell_type": "markdown",
   "metadata": {},
   "source": [
    "## Challenge 2\n",
    "There is a box with 10 white balls, 12 red balls and 8 black balls. Calculate the probability of:\n",
    "* Taking a white ball out.\n",
    "* Taking a white ball out after taking a black ball out.\n",
    "* Taking a red ball out after taking a black and a red ball out.\n",
    "* Taking a red ball out after taking a black and a red ball out with reposition.\n",
    "\n",
    "**Hint**: Reposition means putting back the ball into the box after taking it out."
   ]
  },
  {
   "cell_type": "code",
   "execution_count": null,
   "metadata": {},
   "outputs": [],
   "source": [
    "\"\"\"\n",
    "your solution here\n",
    "\n",
    "\n",
    "Taking a white ball out = 10/30 5/15\n",
    "prob space:\n",
    "10 white\n",
    "12 red\n",
    "8 black\n",
    "= 30 balls\n",
    "\n",
    "Taking a white ball out after taking a black ball out = 10/29\n",
    "prob space:\n",
    "10 white\n",
    "12 red\n",
    "7 black\n",
    "= 29 balls\n",
    "\n",
    "Taking a red ball out after taking a black and a red ball out = 11/28\n",
    "prob space:\n",
    "10 white\n",
    "11 red\n",
    "7 black\n",
    "= 28 balls\n",
    "\n",
    "Taking a red ball out after taking a black and a red ball out with reposition.= 12/30 = 6/15\n",
    "\n",
    "This question is ambiguous, I'll assume we take out a black and a red and we put them back\n",
    "Then after doing this what is the probability of taking a red one out.\n",
    "10 white\n",
    "12 red\n",
    "8 black\n",
    "= 30 balls\n",
    "\n",
    "\"\"\""
   ]
  },
  {
   "cell_type": "markdown",
   "metadata": {},
   "source": [
    "## Challenge 3\n",
    "\n",
    "You are planning to go on a picnic today but the morning is cloudy. You hate rain so you don't know whether to go out or stay home! To help you make a decision, you gather the following data about rainy days:\n",
    "\n",
    "* 50% of all rainy days start off cloudy!\n",
    "* Cloudy mornings are common. About 40% of days start cloudy. \n",
    "* This month is usually dry so only 3 of 30 days (10%) tend to be rainy. \n",
    "\n",
    "What is the chance of rain during the day?"
   ]
  },
  {
   "cell_type": "code",
   "execution_count": null,
   "metadata": {},
   "outputs": [],
   "source": [
    "\"\"\"\n",
    "your solution here\n",
    "\n",
    "Step 1 : Identify the individual probabilities and change the percents to decimals.\n",
    "\n",
    ".5 = of all rainy days start off cloudy\n",
    ".4 = of days start cloudy.\n",
    ".1 = 3 out of 30 of days this month starting rainy\n",
    "\n",
    "Step 2 :Add the probabilities together.\n",
    "\n",
    ".5+.4+.1 = 10%\n",
    "\n",
    "\n",
    "\"\"\""
   ]
  },
  {
   "cell_type": "markdown",
   "metadata": {},
   "source": [
    "## Challenge 4\n",
    "\n",
    "One thousand people were asked through a telephone survey whether they thought more street lighting is needed at night or not.\n",
    "\n",
    "Out of the 480 men that answered the survey, 324 said yes and 156 said no. On the other hand, out of the 520 women that answered, 351 said yes and 169 said no. \n",
    "\n",
    "We wonder if men and women have a different opinions about the street lighting matter. Is gender relevant or irrelevant to the question?\n",
    "\n",
    "Consider the following events:\n",
    "- The answer is yes, so the person that answered thinks that more street lighting is needed.\n",
    "- The person who answered is a man.\n",
    "\n",
    "We want to know if these events are independent, that is, if the fact of wanting more light depends on whether one is male or female. Are these events independent or not?\n",
    "\n",
    "**Hint**: To clearly compare the answers by gender, it is best to place the data in a table."
   ]
  },
  {
   "cell_type": "code",
   "execution_count": 27,
   "metadata": {},
   "outputs": [
    {
     "name": "stdout",
     "output_type": "stream",
     "text": [
      "        Yes   No  participants\n",
      "sex                           \n",
      "men     324  156           480\n",
      "women   351  169           520\n"
     ]
    }
   ],
   "source": [
    "# your code here\n",
    "\n",
    "import pandas as pd\n",
    "data = [[324, 156, \"men\", 480], [351, 169, \"women\", 520]]\n",
    "light = pd.DataFrame(data, columns=[\" Yes\", \"No\", \"sex\", \"participants\"])\n",
    "\n",
    "light.set_index(['sex'], inplace=True)\n",
    "\n",
    "print(light)\n",
    "\n"
   ]
  },
  {
   "cell_type": "code",
   "execution_count": null,
   "metadata": {},
   "outputs": [],
   "source": [
    "\"\"\"\n",
    "your solution here\n",
    "\n",
    "351*100/520 = 67.5\n",
    "324*100/480 = 67.5\n",
    "\n",
    "So no, the fact of wanting more light do not depend on whether one is male or female.\n",
    "Events are independant since both male and female have the same 67.5% rate of positive answers. \n",
    "\n",
    "\"\"\""
   ]
  }
 ],
 "metadata": {
  "kernelspec": {
   "display_name": "Python 3",
   "language": "python",
   "name": "python3"
  },
  "language_info": {
   "codemirror_mode": {
    "name": "ipython",
    "version": 3
   },
   "file_extension": ".py",
   "mimetype": "text/x-python",
   "name": "python",
   "nbconvert_exporter": "python",
   "pygments_lexer": "ipython3",
   "version": "3.8.3"
  }
 },
 "nbformat": 4,
 "nbformat_minor": 2
}
