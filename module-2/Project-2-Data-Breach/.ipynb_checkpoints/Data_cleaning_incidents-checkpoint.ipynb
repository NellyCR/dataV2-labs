{
 "cells": [
  {
   "cell_type": "code",
   "execution_count": 1,
   "metadata": {},
   "outputs": [],
   "source": [
    "import pandas as pd\n",
    "import numpy as np\n",
    "import plotly.express as px\n",
    "\n",
    "cnil = pd.read_excel('/Users/nelly/dataV2-labs/module-2/Project-2-Data-Breach/data.xls',skiprows=1)"
   ]
  },
  {
   "cell_type": "code",
   "execution_count": 2,
   "metadata": {
    "scrolled": false
   },
   "outputs": [
    {
     "data": {
      "text/html": [
       "<div>\n",
       "<style scoped>\n",
       "    .dataframe tbody tr th:only-of-type {\n",
       "        vertical-align: middle;\n",
       "    }\n",
       "\n",
       "    .dataframe tbody tr th {\n",
       "        vertical-align: top;\n",
       "    }\n",
       "\n",
       "    .dataframe thead th {\n",
       "        text-align: right;\n",
       "    }\n",
       "</style>\n",
       "<table border=\"1\" class=\"dataframe\">\n",
       "  <thead>\n",
       "    <tr style=\"text-align: right;\">\n",
       "      <th></th>\n",
       "      <th>Date de réception de la notification</th>\n",
       "      <th>Secteur d'activité de l'organisme concerné</th>\n",
       "      <th>Natures de la violation</th>\n",
       "      <th>Nombre de personnes impactées</th>\n",
       "      <th>Typologie des données impactées</th>\n",
       "      <th>Données sensibles</th>\n",
       "      <th>Origine de l'incident</th>\n",
       "      <th>Causes de l'incident</th>\n",
       "      <th>Information des personnes</th>\n",
       "    </tr>\n",
       "  </thead>\n",
       "  <tbody>\n",
       "    <tr>\n",
       "      <th>0</th>\n",
       "      <td>2020-02</td>\n",
       "      <td>Santé humaine et action sociale</td>\n",
       "      <td>Perte de la confidentialité</td>\n",
       "      <td>Entre 0 et 5 personnes</td>\n",
       "      <td>Etat civil (ex : nom, sexe, date de naissance,...</td>\n",
       "      <td>Oui</td>\n",
       "      <td>Données personnelles envoyées à un mauvais des...</td>\n",
       "      <td>Acte interne accidentel</td>\n",
       "      <td>Non, mais elles le seront</td>\n",
       "    </tr>\n",
       "    <tr>\n",
       "      <th>1</th>\n",
       "      <td>2020-02</td>\n",
       "      <td>Commerce ; réparation d''automobiles et de mot...</td>\n",
       "      <td>Perte de la confidentialité</td>\n",
       "      <td>Entre 6 et 50 personnes</td>\n",
       "      <td>Etat civil (ex : nom, sexe, date de naissance,...</td>\n",
       "      <td>NaN</td>\n",
       "      <td>Publication non volontaire d'informations</td>\n",
       "      <td>Acte externe accidentel</td>\n",
       "      <td>Non, mais elles le seront</td>\n",
       "    </tr>\n",
       "    <tr>\n",
       "      <th>2</th>\n",
       "      <td>2020-02</td>\n",
       "      <td>Administration publique</td>\n",
       "      <td>Perte de la confidentialité</td>\n",
       "      <td>Entre 301 et 5000 personnes</td>\n",
       "      <td>Etat civil (ex : nom, sexe, date de naissance,...</td>\n",
       "      <td>NaN</td>\n",
       "      <td>Piratage, logiciel malveillant (par exemple ra...</td>\n",
       "      <td>Acte externe malveillant</td>\n",
       "      <td>Non déterminé pour le moment</td>\n",
       "    </tr>\n",
       "  </tbody>\n",
       "</table>\n",
       "</div>"
      ],
      "text/plain": [
       "  Date de réception de la notification  \\\n",
       "0                              2020-02   \n",
       "1                              2020-02   \n",
       "2                              2020-02   \n",
       "\n",
       "          Secteur d'activité de l'organisme concerné  \\\n",
       "0                    Santé humaine et action sociale   \n",
       "1  Commerce ; réparation d''automobiles et de mot...   \n",
       "2                            Administration publique   \n",
       "\n",
       "       Natures de la violation Nombre de personnes impactées  \\\n",
       "0  Perte de la confidentialité        Entre 0 et 5 personnes   \n",
       "1  Perte de la confidentialité       Entre 6 et 50 personnes   \n",
       "2  Perte de la confidentialité   Entre 301 et 5000 personnes   \n",
       "\n",
       "                     Typologie des données impactées Données sensibles  \\\n",
       "0  Etat civil (ex : nom, sexe, date de naissance,...               Oui   \n",
       "1  Etat civil (ex : nom, sexe, date de naissance,...               NaN   \n",
       "2  Etat civil (ex : nom, sexe, date de naissance,...               NaN   \n",
       "\n",
       "                               Origine de l'incident  \\\n",
       "0  Données personnelles envoyées à un mauvais des...   \n",
       "1          Publication non volontaire d'informations   \n",
       "2  Piratage, logiciel malveillant (par exemple ra...   \n",
       "\n",
       "       Causes de l'incident     Information des personnes  \n",
       "0   Acte interne accidentel     Non, mais elles le seront  \n",
       "1   Acte externe accidentel     Non, mais elles le seront  \n",
       "2  Acte externe malveillant  Non déterminé pour le moment  "
      ]
     },
     "execution_count": 2,
     "metadata": {},
     "output_type": "execute_result"
    }
   ],
   "source": [
    "cnil.head(3)"
   ]
  },
  {
   "cell_type": "code",
   "execution_count": 3,
   "metadata": {
    "scrolled": true
   },
   "outputs": [
    {
     "data": {
      "text/plain": [
       "Date de réception de la notification          object\n",
       "Secteur d'activité de l'organisme concerné    object\n",
       "Natures de la violation                       object\n",
       "Nombre de personnes impactées                 object\n",
       "Typologie des données impactées               object\n",
       "Données sensibles                             object\n",
       "Origine de l'incident                         object\n",
       "Causes de l'incident                          object\n",
       "Information des personnes                     object\n",
       "dtype: object"
      ]
     },
     "execution_count": 3,
     "metadata": {},
     "output_type": "execute_result"
    }
   ],
   "source": [
    "cnil.dtypes"
   ]
  },
  {
   "cell_type": "code",
   "execution_count": 4,
   "metadata": {
    "scrolled": true
   },
   "outputs": [],
   "source": [
    "# Index to start at 1\n",
    "\n",
    "cnil.index = np.arange(1,len(cnil)+1)\n",
    "\n",
    "# Change colum names\n",
    "\n",
    "cnil.columns = ['Date', 'Sector','Violation_nature','People_impacted','Data_type','Sensitive_data','Incident_origin','Incident_cause','People_informed']"
   ]
  },
  {
   "cell_type": "code",
   "execution_count": 5,
   "metadata": {},
   "outputs": [
    {
     "data": {
      "text/html": [
       "<div>\n",
       "<style scoped>\n",
       "    .dataframe tbody tr th:only-of-type {\n",
       "        vertical-align: middle;\n",
       "    }\n",
       "\n",
       "    .dataframe tbody tr th {\n",
       "        vertical-align: top;\n",
       "    }\n",
       "\n",
       "    .dataframe thead th {\n",
       "        text-align: right;\n",
       "    }\n",
       "</style>\n",
       "<table border=\"1\" class=\"dataframe\">\n",
       "  <thead>\n",
       "    <tr style=\"text-align: right;\">\n",
       "      <th></th>\n",
       "      <th>Date</th>\n",
       "      <th>Sector</th>\n",
       "      <th>Violation_nature</th>\n",
       "      <th>People_impacted</th>\n",
       "      <th>Data_type</th>\n",
       "      <th>Sensitive_data</th>\n",
       "      <th>Incident_origin</th>\n",
       "      <th>Incident_cause</th>\n",
       "      <th>People_informed</th>\n",
       "    </tr>\n",
       "  </thead>\n",
       "  <tbody>\n",
       "    <tr>\n",
       "      <th>1</th>\n",
       "      <td>2020-02</td>\n",
       "      <td>Santé humaine et action sociale</td>\n",
       "      <td>Perte de la confidentialité</td>\n",
       "      <td>Entre 0 et 5 personnes</td>\n",
       "      <td>Etat civil (ex : nom, sexe, date de naissance,...</td>\n",
       "      <td>Oui</td>\n",
       "      <td>Données personnelles envoyées à un mauvais des...</td>\n",
       "      <td>Acte interne accidentel</td>\n",
       "      <td>Non, mais elles le seront</td>\n",
       "    </tr>\n",
       "  </tbody>\n",
       "</table>\n",
       "</div>"
      ],
      "text/plain": [
       "      Date                           Sector             Violation_nature  \\\n",
       "1  2020-02  Santé humaine et action sociale  Perte de la confidentialité   \n",
       "\n",
       "          People_impacted                                          Data_type  \\\n",
       "1  Entre 0 et 5 personnes  Etat civil (ex : nom, sexe, date de naissance,...   \n",
       "\n",
       "  Sensitive_data                                    Incident_origin  \\\n",
       "1            Oui  Données personnelles envoyées à un mauvais des...   \n",
       "\n",
       "            Incident_cause            People_informed  \n",
       "1  Acte interne accidentel  Non, mais elles le seront  "
      ]
     },
     "execution_count": 5,
     "metadata": {},
     "output_type": "execute_result"
    }
   ],
   "source": [
    "cnil.head(1)"
   ]
  },
  {
   "cell_type": "code",
   "execution_count": 6,
   "metadata": {},
   "outputs": [
    {
     "data": {
      "text/plain": [
       "['Santé humaine et action sociale',\n",
       " \"Commerce ; réparation d''automobiles et de motocycles\",\n",
       " 'Administration publique',\n",
       " 'Information et communication',\n",
       " 'Activités spécialisées, scientifiques et techniques',\n",
       " 'Industrie manufacturière',\n",
       " 'Activités de services administratifs et de soutien',\n",
       " \"Activités financières et d''assurance\",\n",
       " 'Autres activités de services',\n",
       " 'Construction',\n",
       " 'Transports et entreposage',\n",
       " 'Agriculture, sylviculture et pêche',\n",
       " 'Activités immobilières',\n",
       " 'Enseignement',\n",
       " 'Hébergement et restauration',\n",
       " 'Arts, spectacles et activités récréatives',\n",
       " 'Inconnu',\n",
       " \"Production et distribution d''électricité, de gaz, de vapeur et d''air conditionné\",\n",
       " \"Production et distribution d''eau ; assainissement, gestion des déchets et dépollution\",\n",
       " 'Industries extractives',\n",
       " 'Activités extra-territoriales',\n",
       " \"Activités des ménages en tant qu''employeurs ; activités indifférenciées des ménages en tant que producteurs de biens et services pour usage propre\"]"
      ]
     },
     "execution_count": 6,
     "metadata": {},
     "output_type": "execute_result"
    }
   ],
   "source": [
    "# TYPE OF SECTORS\n",
    "\n",
    "list(cnil.Sector.unique())"
   ]
  },
  {
   "cell_type": "code",
   "execution_count": 7,
   "metadata": {
    "scrolled": true
   },
   "outputs": [],
   "source": [
    "# CLEAN SECTOR COLUMN\n",
    "\n",
    "cnil['Sector'] = cnil['Sector'].replace(['Santé humaine et action sociale',\n",
    " \"Commerce ; réparation d''automobiles et de motocycles\",\n",
    " 'Administration publique',\n",
    " 'Information et communication',\n",
    " 'Activités spécialisées, scientifiques et techniques',\n",
    " 'Industrie manufacturière',\n",
    " 'Activités de services administratifs et de soutien',\n",
    " \"Activités financières et d''assurance\",\n",
    " 'Autres activités de services',\n",
    " 'Construction',\n",
    " 'Transports et entreposage',\n",
    " 'Agriculture, sylviculture et pêche',\n",
    " 'Activités immobilières',\n",
    " 'Enseignement',\n",
    " 'Hébergement et restauration',\n",
    " 'Arts, spectacles et activités récréatives',\n",
    " 'Inconnu',\n",
    " \"Production et distribution d''électricité, de gaz, de vapeur et d''air conditionné\",\n",
    " \"Production et distribution d''eau ; assainissement, gestion des déchets et dépollution\",\n",
    " 'Industries extractives',\n",
    " 'Activités extra-territoriales',\n",
    " \"Activités des ménages en tant qu''employeurs ; activités indifférenciées des ménages en tant que producteurs de biens et services pour usage propre\"],\n",
    "\n",
    "['Health',\n",
    " \"Commerce\",\n",
    " 'Public_Administration',\n",
    " 'Information/Communication',\n",
    " 'Scientific/Specialized/Technical',\n",
    " 'Manufacturing',\n",
    " 'Administrative/Support_services',\n",
    " \"Finance/Insurance\",\n",
    " 'Other_services',\n",
    " 'Construction',\n",
    " 'Transport/Warehousing',\n",
    " 'Agriculture/Forestry/Fishing',\n",
    " 'Real_Estate',\n",
    " 'Education',\n",
    " 'Hospitality',\n",
    " 'Arts-Recreational',\n",
    " 'Unknown',\n",
    " \"Electricity/Gas/Steam/AC\",\n",
    " \"Water/Sanitation/WasteManagement\",\n",
    " 'Extractive',\n",
    " 'Extra_territorial',\n",
    " 'Households_as_employers'])"
   ]
  },
  {
   "cell_type": "code",
   "execution_count": 8,
   "metadata": {},
   "outputs": [
    {
     "data": {
      "text/plain": [
       "['Perte de la confidentialité',\n",
       " \"Perte de la confidentialité,Perte de l'intégrité,Perte de la disponibilité\",\n",
       " 'Perte de la disponibilité',\n",
       " 'Perte de la confidentialité,Perte de la disponibilité',\n",
       " \"Perte de l'intégrité,Perte de la disponibilité\",\n",
       " \"Perte de la confidentialité,Perte de l'intégrité\",\n",
       " \"Perte de l'intégrité\"]"
      ]
     },
     "execution_count": 8,
     "metadata": {},
     "output_type": "execute_result"
    }
   ],
   "source": [
    "# Type of violations \n",
    "# No need to clean because I won't use it for the analysis \n",
    "\n",
    "list(cnil.Violation_nature.unique())"
   ]
  },
  {
   "cell_type": "code",
   "execution_count": 9,
   "metadata": {},
   "outputs": [
    {
     "data": {
      "text/plain": [
       "['Entre 0 et 5 personnes',\n",
       " 'Entre 6 et 50 personnes',\n",
       " 'Entre 301 et 5000 personnes',\n",
       " 'Plus de 5000 personnes',\n",
       " 'Entre 51 et 300 personnes']"
      ]
     },
     "execution_count": 9,
     "metadata": {},
     "output_type": "execute_result"
    }
   ],
   "source": [
    "# Number of people affected\n",
    "\n",
    "list(cnil.People_impacted.unique())"
   ]
  },
  {
   "cell_type": "code",
   "execution_count": 10,
   "metadata": {},
   "outputs": [],
   "source": [
    "# CLEANING NUMBER OF PEOPLE AFFECTED\n",
    "\n",
    "cnil['People_impacted'] = cnil['People_impacted'].replace(['Entre 0 et 5 personnes'],'5')\n",
    "cnil['People_impacted'] = cnil['People_impacted'].replace(['Entre 6 et 50 personnes'],'50')\n",
    "cnil['People_impacted'] = cnil['People_impacted'].replace(['Entre 51 et 300 personnes'],'300')\n",
    "cnil['People_impacted'] = cnil['People_impacted'].replace(['Entre 301 et 5000 personnes'],'5000')\n",
    "cnil['People_impacted'] = cnil['People_impacted'].replace(['Plus de 5000 personnes'],'>5000')"
   ]
  },
  {
   "cell_type": "code",
   "execution_count": 11,
   "metadata": {},
   "outputs": [
    {
     "data": {
      "text/html": [
       "<div>\n",
       "<style scoped>\n",
       "    .dataframe tbody tr th:only-of-type {\n",
       "        vertical-align: middle;\n",
       "    }\n",
       "\n",
       "    .dataframe tbody tr th {\n",
       "        vertical-align: top;\n",
       "    }\n",
       "\n",
       "    .dataframe thead th {\n",
       "        text-align: right;\n",
       "    }\n",
       "</style>\n",
       "<table border=\"1\" class=\"dataframe\">\n",
       "  <thead>\n",
       "    <tr style=\"text-align: right;\">\n",
       "      <th></th>\n",
       "      <th>Date</th>\n",
       "      <th>Sector</th>\n",
       "      <th>Violation_nature</th>\n",
       "      <th>People_impacted</th>\n",
       "      <th>Data_type</th>\n",
       "      <th>Sensitive_data</th>\n",
       "      <th>Incident_origin</th>\n",
       "      <th>Incident_cause</th>\n",
       "      <th>People_informed</th>\n",
       "    </tr>\n",
       "  </thead>\n",
       "  <tbody>\n",
       "    <tr>\n",
       "      <th>1</th>\n",
       "      <td>2020-02</td>\n",
       "      <td>Health</td>\n",
       "      <td>Perte de la confidentialité</td>\n",
       "      <td>5</td>\n",
       "      <td>Etat civil (ex : nom, sexe, date de naissance,...</td>\n",
       "      <td>Oui</td>\n",
       "      <td>Données personnelles envoyées à un mauvais des...</td>\n",
       "      <td>Acte interne accidentel</td>\n",
       "      <td>Non, mais elles le seront</td>\n",
       "    </tr>\n",
       "    <tr>\n",
       "      <th>2</th>\n",
       "      <td>2020-02</td>\n",
       "      <td>Commerce</td>\n",
       "      <td>Perte de la confidentialité</td>\n",
       "      <td>50</td>\n",
       "      <td>Etat civil (ex : nom, sexe, date de naissance,...</td>\n",
       "      <td>NaN</td>\n",
       "      <td>Publication non volontaire d'informations</td>\n",
       "      <td>Acte externe accidentel</td>\n",
       "      <td>Non, mais elles le seront</td>\n",
       "    </tr>\n",
       "  </tbody>\n",
       "</table>\n",
       "</div>"
      ],
      "text/plain": [
       "      Date    Sector             Violation_nature People_impacted  \\\n",
       "1  2020-02    Health  Perte de la confidentialité               5   \n",
       "2  2020-02  Commerce  Perte de la confidentialité              50   \n",
       "\n",
       "                                           Data_type Sensitive_data  \\\n",
       "1  Etat civil (ex : nom, sexe, date de naissance,...            Oui   \n",
       "2  Etat civil (ex : nom, sexe, date de naissance,...            NaN   \n",
       "\n",
       "                                     Incident_origin           Incident_cause  \\\n",
       "1  Données personnelles envoyées à un mauvais des...  Acte interne accidentel   \n",
       "2          Publication non volontaire d'informations  Acte externe accidentel   \n",
       "\n",
       "             People_informed  \n",
       "1  Non, mais elles le seront  \n",
       "2  Non, mais elles le seront  "
      ]
     },
     "execution_count": 11,
     "metadata": {},
     "output_type": "execute_result"
    }
   ],
   "source": [
    "cnil.head(2)"
   ]
  },
  {
   "cell_type": "code",
   "execution_count": 12,
   "metadata": {},
   "outputs": [
    {
     "data": {
      "text/plain": [
       "Etat civil (ex : nom, sexe, date de naissance, âge...),Coordonnées (ex : adresse postale ou électronique, numéros de téléphone fixe ou portable...)                                                                                                                                                                                                                                                                                                                                                     541\n",
       "Coordonnées (ex : adresse postale ou électronique, numéros de téléphone fixe ou portable...)                                                                                                                                                                                                                                                                                                                                                                                                            317\n",
       "Etat civil (ex : nom, sexe, date de naissance, âge...),Coordonnées (ex : adresse postale ou électronique, numéros de téléphone fixe ou portable...),Données d’identification ou d’accès (ex : identifiant, mot de passe, numéro client...)                                                                                                                                                                                                                                                              268\n",
       "Etat civil (ex : nom, sexe, date de naissance, âge...),Coordonnées (ex : adresse postale ou électronique, numéros de téléphone fixe ou portable...),Données relatives à des informations financières (ex : revenus, numéro de carte de crédit, coordonnées bancaires), économiques                                                                                                                                                                                                                      221\n",
       "Les données concernées ne sont pas connues pour le moment                                                                                                                                                                                                                                                                                                                                                                                                                                               150\n",
       "                                                                                                                                                                                                                                                                                                                                                                                                                                                                                                       ... \n",
       "Etat civil (ex : nom, sexe, date de naissance, âge...),NIR (Numéro d'Inscription au Répertoire),Coordonnées (ex : adresse postale ou électronique, numéros de téléphone fixe ou portable...),Documents officiels (Passeports, pièces d’identité, etc.),La violation concerne d'autres données                                                                                                                                                                                                             1\n",
       "Etat civil (ex : nom, sexe, date de naissance, âge...),Coordonnées (ex : adresse postale ou électronique, numéros de téléphone fixe ou portable...),Données d’identification ou d’accès (ex : identifiant, mot de passe, numéro client...),Documents officiels (Passeports, pièces d’identité, etc.),Données relatives à des infractions, condamnations, mesures de sûreté,La violation concerne d'autres données                                                                                         1\n",
       "Etat civil (ex : nom, sexe, date de naissance, âge...),Coordonnées (ex : adresse postale ou électronique, numéros de téléphone fixe ou portable...),Données d’identification ou d’accès (ex : identifiant, mot de passe, numéro client...),Données de localisation,Données relatives à des infractions, condamnations, mesures de sûreté                                                                                                                                                                  1\n",
       "Coordonnées (ex : adresse postale ou électronique, numéros de téléphone fixe ou portable...),Données d’identification ou d’accès (ex : identifiant, mot de passe, numéro client...),Données relatives à des informations financières (ex : revenus, numéro de carte de crédit, coordonnées bancaires), économiques,Les données concernées ne sont pas connues pour le moment                                                                                                                              1\n",
       "Etat civil (ex : nom, sexe, date de naissance, âge...),NIR (Numéro d'Inscription au Répertoire),Coordonnées (ex : adresse postale ou électronique, numéros de téléphone fixe ou portable...),Données d’identification ou d’accès (ex : identifiant, mot de passe, numéro client...),Données relatives à des informations financières (ex : revenus, numéro de carte de crédit, coordonnées bancaires), économiques,Données de localisation,Les données concernées ne sont pas connues pour le moment      1\n",
       "Name: Data_type, Length: 195, dtype: int64"
      ]
     },
     "execution_count": 12,
     "metadata": {},
     "output_type": "execute_result"
    }
   ],
   "source": [
    "# TYPES OF DATA COMPROMISED\n",
    "\n",
    "cnil['Data_type'].value_counts()"
   ]
  },
  {
   "cell_type": "code",
   "execution_count": 13,
   "metadata": {},
   "outputs": [],
   "source": [
    "# CLEAN MOST COMMON DATA-TYPES \n",
    "# ONLY DATA TYPES WITH MORE THAN 100 INCIDENTS  \n",
    "\n",
    "\n",
    "# NEW VALUES : \n",
    "# CIVIL = name, sex, date of birth, age) \n",
    "# CONTACT = postal or email address, landline or mobile phone numbers\n",
    "# ACCESS = username, password, customer number\n",
    "# FINANCIAL = income, credit card number, bank details\n",
    "# ECONOMIC = economic\n",
    "# TBD = to be defined\n",
    "\n",
    "cnil['Data_type'] = cnil['Data_type'].replace(['Etat civil (ex : nom, sexe, date de naissance, âge...),Coordonnées (ex : adresse postale ou électronique, numéros de téléphone fixe ou portable...)'],['Civil-Contact'])\n",
    "cnil['Data_type'] = cnil['Data_type'].replace(['Coordonnées (ex : adresse postale ou électronique, numéros de téléphone fixe ou portable...)'],'Contact')\n",
    "cnil['Data_type'] = cnil['Data_type'].replace(['Etat civil (ex : nom, sexe, date de naissance, âge...),Coordonnées (ex : adresse postale ou électronique, numéros de téléphone fixe ou portable...),Données d’identification ou d’accès (ex : identifiant, mot de passe, numéro client...)'],'Civil-Contact-Access')\n",
    "cnil['Data_type'] = cnil['Data_type'].replace(['Etat civil (ex : nom, sexe, date de naissance, âge...),Coordonnées (ex : adresse postale ou électronique, numéros de téléphone fixe ou portable...),Données relatives à des informations financières (ex : revenus, numéro de carte de crédit, coordonnées bancaires), économiques'],'Civil-Contact-Finance-Economic')\n",
    "cnil['Data_type'] = cnil['Data_type'].replace(['Les données concernées ne sont pas connues pour le moment'],'TBD')\n"
   ]
  },
  {
   "cell_type": "code",
   "execution_count": 14,
   "metadata": {
    "scrolled": true
   },
   "outputs": [
    {
     "data": {
      "text/plain": [
       "Piratage, logiciel malveillant (par exemple rançongiciel) et/ou hameçonnage                                                                                                                                                                              1493\n",
       "Autre                                                                                                                                                                                                                                                     699\n",
       "Données personnelles envoyées à un mauvais destinataire                                                                                                                                                                                                   407\n",
       "Equipement perdu ou volé                                                                                                                                                                                                                                  364\n",
       "Publication non volontaire d'informations                                                                                                                                                                                                                 345\n",
       "                                                                                                                                                                                                                                                         ... \n",
       "Piratage, logiciel malveillant (par exemple rançongiciel) et/ou hameçonnage,Mise au rebut d’appareils numériques contenant des données personnelles sans effacement sécurisé,Données de la mauvaise personne affichées sur le portail du client,Autre       1\n",
       "Données de la mauvaise personne affichées sur le portail du client,Données personnelles envoyées à un mauvais destinataire,Autre                                                                                                                            1\n",
       "Papier perdu, volé ou laissé accessible dans un endroit non sécurisé,Publication non volontaire d'informations                                                                                                                                              1\n",
       "Equipement perdu ou volé,Papier perdu, volé ou laissé accessible dans un endroit non sécurisé,Courrier perdu ou ouvert avant d'être retourné à l'envoyeur                                                                                                   1\n",
       "Piratage, logiciel malveillant (par exemple rançongiciel) et/ou hameçonnage,Mise au rebut d’appareils numériques contenant des données personnelles sans effacement sécurisé,Publication non volontaire d'informations                                      1\n",
       "Name: Incident_origin, Length: 64, dtype: int64"
      ]
     },
     "execution_count": 14,
     "metadata": {},
     "output_type": "execute_result"
    }
   ],
   "source": [
    "# TYPES OF INCIDENT ORIGIN\n",
    "\n",
    "cnil['Incident_origin'].value_counts()"
   ]
  },
  {
   "cell_type": "code",
   "execution_count": 15,
   "metadata": {},
   "outputs": [],
   "source": [
    "# CLEAN MOST COMMON INCIDENT CAUSES\n",
    "# ONLY IF THEY HAVE MORE THAN 100 INCIDENTS\n",
    "\n",
    "# Hacking/Malware/Phishing: cybercrime\n",
    "# Other \n",
    "# Recipient_mistake : Personal data sent to the wrong recipient \n",
    "# Equipment_Lost/Stolen:Lost,stolen equipment\n",
    "# Publication_mistake: Non-voluntary publication of information\n",
    "\n",
    "\n",
    "cnil['Incident_origin'] = cnil['Incident_origin'].replace(['Piratage, logiciel malveillant (par exemple rançongiciel) et/ou hameçonnage'],'Hacking - Malware -Phishing')\n",
    "cnil['Incident_origin'] = cnil['Incident_origin'].replace(['Autre'],'Other')\n",
    "cnil['Incident_origin'] = cnil['Incident_origin'].replace(['Données personnelles envoyées à un mauvais destinataire'],'Recipient mistake')\n",
    "cnil['Incident_origin'] = cnil['Incident_origin'].replace(['Equipement perdu ou volé'],'Equipment Lost or Stolen')\n",
    "cnil['Incident_origin'] = cnil['Incident_origin'].replace([\"Publication non volontaire d'informations\"],'Publication mistake')\n",
    "\n",
    "\n"
   ]
  },
  {
   "cell_type": "code",
   "execution_count": 16,
   "metadata": {
    "scrolled": false
   },
   "outputs": [
    {
     "data": {
      "text/plain": [
       "Acte externe malveillant                                                     1806\n",
       "Acte interne accidentel                                                       856\n",
       "Inconnu                                                                       303\n",
       "Acte externe accidentel                                                       239\n",
       "Autre                                                                         226\n",
       "Acte interne malveillant                                                      158\n",
       "Acte interne accidentel,Acte externe malveillant                               47\n",
       "Acte interne malveillant,Acte externe malveillant                              38\n",
       "Acte externe malveillant,Inconnu                                               27\n",
       "Acte interne accidentel,Autre                                                  27\n",
       "Acte externe malveillant,Acte externe accidentel                               22\n",
       "Acte interne accidentel,Acte externe accidentel                                20\n",
       "Acte externe malveillant,Autre                                                 14\n",
       "Acte interne malveillant,Acte interne accidentel                               12\n",
       "Inconnu,Autre                                                                   6\n",
       "Acte interne malveillant,Acte externe malveillant,Inconnu                       5\n",
       "Acte interne accidentel,Inconnu                                                 4\n",
       "Acte externe accidentel,Autre                                                   3\n",
       "Acte interne malveillant,Acte externe accidentel                                2\n",
       "Acte interne malveillant,Acte externe malveillant,Autre                         2\n",
       "Acte externe accidentel,Inconnu,Autre                                           1\n",
       "Acte externe accidentel,Inconnu                                                 1\n",
       "Acte interne malveillant,Acte externe malveillant,Inconnu,Autre                 1\n",
       "Acte interne malveillant,Autre                                                  1\n",
       "Acte interne malveillant,Acte interne accidentel,Acte externe malveillant       1\n",
       "Acte interne malveillant,Inconnu                                                1\n",
       "Acte interne malveillant,Acte interne accidentel,Autre                          1\n",
       "Name: Incident_cause, dtype: int64"
      ]
     },
     "execution_count": 16,
     "metadata": {},
     "output_type": "execute_result"
    }
   ],
   "source": [
    "# TYPES OF INCIDENT CAUSE\n",
    "\n",
    "cnil['Incident_cause'].value_counts()\n"
   ]
  },
  {
   "cell_type": "code",
   "execution_count": 17,
   "metadata": {},
   "outputs": [],
   "source": [
    "# CLEAN INCIDENT CAUSE\n",
    "# ONLY MORE THAN 100 INCIDENTS\n",
    "\n",
    "\n",
    "cnil['Incident_cause'] = cnil['Incident_cause'].replace(['Acte externe malveillant'],'External-Malicious')\n",
    "cnil['Incident_cause'] = cnil['Incident_cause'].replace(['Acte interne accidentel'],'Internal-Accidental')\n",
    "cnil['Incident_cause'] = cnil['Incident_cause'].replace(['Inconnu'],'Unknown')\n",
    "cnil['Incident_cause'] = cnil['Incident_cause'].replace(['Acte externe accidentel'],'External-Accidental')\n",
    "cnil['Incident_cause'] = cnil['Incident_cause'].replace(['Autre'],'Other')\n",
    "cnil['Incident_cause'] = cnil['Incident_cause'].replace(['Acte interne malveillant'],'Internal-Malicious')"
   ]
  },
  {
   "cell_type": "code",
   "execution_count": 18,
   "metadata": {},
   "outputs": [
    {
     "data": {
      "text/plain": [
       "['Non, mais elles le seront',\n",
       " 'Non déterminé pour le moment',\n",
       " 'Non ils ne le seront pas',\n",
       " 'Oui, les personnes ont été informées']"
      ]
     },
     "execution_count": 18,
     "metadata": {},
     "output_type": "execute_result"
    }
   ],
   "source": [
    "# PEOPLE INFORMED COLUMN INFO\n",
    "\n",
    "list(cnil.People_informed.unique())"
   ]
  },
  {
   "cell_type": "code",
   "execution_count": 19,
   "metadata": {},
   "outputs": [],
   "source": [
    "# CLEAN PEOPLE INFORMED COLUMN\n",
    "\n",
    "cnil['People_informed'] = cnil['People_informed'].replace(['Non, mais elles le seront','Non déterminé pour le moment','Non ils ne le seront pas','Oui, les personnes ont été informées'],['They_will','TBD','They_will_not','Yes'])"
   ]
  },
  {
   "cell_type": "code",
   "execution_count": 3,
   "metadata": {},
   "outputs": [
    {
     "data": {
      "text/html": [
       "<div>\n",
       "<style scoped>\n",
       "    .dataframe tbody tr th:only-of-type {\n",
       "        vertical-align: middle;\n",
       "    }\n",
       "\n",
       "    .dataframe tbody tr th {\n",
       "        vertical-align: top;\n",
       "    }\n",
       "\n",
       "    .dataframe thead th {\n",
       "        text-align: right;\n",
       "    }\n",
       "</style>\n",
       "<table border=\"1\" class=\"dataframe\">\n",
       "  <thead>\n",
       "    <tr style=\"text-align: right;\">\n",
       "      <th></th>\n",
       "      <th>Date de réception de la notification</th>\n",
       "      <th>Secteur d'activité de l'organisme concerné</th>\n",
       "      <th>Natures de la violation</th>\n",
       "      <th>Nombre de personnes impactées</th>\n",
       "      <th>Typologie des données impactées</th>\n",
       "      <th>Données sensibles</th>\n",
       "      <th>Origine de l'incident</th>\n",
       "      <th>Causes de l'incident</th>\n",
       "      <th>Information des personnes</th>\n",
       "    </tr>\n",
       "  </thead>\n",
       "  <tbody>\n",
       "    <tr>\n",
       "      <th>0</th>\n",
       "      <td>2020-02</td>\n",
       "      <td>Santé humaine et action sociale</td>\n",
       "      <td>Perte de la confidentialité</td>\n",
       "      <td>Entre 0 et 5 personnes</td>\n",
       "      <td>Etat civil (ex : nom, sexe, date de naissance,...</td>\n",
       "      <td>Oui</td>\n",
       "      <td>Données personnelles envoyées à un mauvais des...</td>\n",
       "      <td>Acte interne accidentel</td>\n",
       "      <td>Non, mais elles le seront</td>\n",
       "    </tr>\n",
       "    <tr>\n",
       "      <th>1</th>\n",
       "      <td>2020-02</td>\n",
       "      <td>Commerce ; réparation d''automobiles et de mot...</td>\n",
       "      <td>Perte de la confidentialité</td>\n",
       "      <td>Entre 6 et 50 personnes</td>\n",
       "      <td>Etat civil (ex : nom, sexe, date de naissance,...</td>\n",
       "      <td>NaN</td>\n",
       "      <td>Publication non volontaire d'informations</td>\n",
       "      <td>Acte externe accidentel</td>\n",
       "      <td>Non, mais elles le seront</td>\n",
       "    </tr>\n",
       "    <tr>\n",
       "      <th>2</th>\n",
       "      <td>2020-02</td>\n",
       "      <td>Administration publique</td>\n",
       "      <td>Perte de la confidentialité</td>\n",
       "      <td>Entre 301 et 5000 personnes</td>\n",
       "      <td>Etat civil (ex : nom, sexe, date de naissance,...</td>\n",
       "      <td>NaN</td>\n",
       "      <td>Piratage, logiciel malveillant (par exemple ra...</td>\n",
       "      <td>Acte externe malveillant</td>\n",
       "      <td>Non déterminé pour le moment</td>\n",
       "    </tr>\n",
       "    <tr>\n",
       "      <th>3</th>\n",
       "      <td>2020-02</td>\n",
       "      <td>Administration publique</td>\n",
       "      <td>Perte de la confidentialité,Perte de l'intégri...</td>\n",
       "      <td>Entre 0 et 5 personnes</td>\n",
       "      <td>Etat civil (ex : nom, sexe, date de naissance,...</td>\n",
       "      <td>Oui</td>\n",
       "      <td>Piratage, logiciel malveillant (par exemple ra...</td>\n",
       "      <td>Inconnu</td>\n",
       "      <td>Non déterminé pour le moment</td>\n",
       "    </tr>\n",
       "    <tr>\n",
       "      <th>4</th>\n",
       "      <td>2020-02</td>\n",
       "      <td>Information et communication</td>\n",
       "      <td>Perte de la confidentialité</td>\n",
       "      <td>Plus de 5000 personnes</td>\n",
       "      <td>Etat civil (ex : nom, sexe, date de naissance,...</td>\n",
       "      <td>NaN</td>\n",
       "      <td>Piratage, logiciel malveillant (par exemple ra...</td>\n",
       "      <td>Acte externe malveillant</td>\n",
       "      <td>Non déterminé pour le moment</td>\n",
       "    </tr>\n",
       "  </tbody>\n",
       "</table>\n",
       "</div>"
      ],
      "text/plain": [
       "  Date de réception de la notification  \\\n",
       "0                              2020-02   \n",
       "1                              2020-02   \n",
       "2                              2020-02   \n",
       "3                              2020-02   \n",
       "4                              2020-02   \n",
       "\n",
       "          Secteur d'activité de l'organisme concerné  \\\n",
       "0                    Santé humaine et action sociale   \n",
       "1  Commerce ; réparation d''automobiles et de mot...   \n",
       "2                            Administration publique   \n",
       "3                            Administration publique   \n",
       "4                       Information et communication   \n",
       "\n",
       "                             Natures de la violation  \\\n",
       "0                        Perte de la confidentialité   \n",
       "1                        Perte de la confidentialité   \n",
       "2                        Perte de la confidentialité   \n",
       "3  Perte de la confidentialité,Perte de l'intégri...   \n",
       "4                        Perte de la confidentialité   \n",
       "\n",
       "  Nombre de personnes impactées  \\\n",
       "0        Entre 0 et 5 personnes   \n",
       "1       Entre 6 et 50 personnes   \n",
       "2   Entre 301 et 5000 personnes   \n",
       "3        Entre 0 et 5 personnes   \n",
       "4        Plus de 5000 personnes   \n",
       "\n",
       "                     Typologie des données impactées Données sensibles  \\\n",
       "0  Etat civil (ex : nom, sexe, date de naissance,...               Oui   \n",
       "1  Etat civil (ex : nom, sexe, date de naissance,...               NaN   \n",
       "2  Etat civil (ex : nom, sexe, date de naissance,...               NaN   \n",
       "3  Etat civil (ex : nom, sexe, date de naissance,...               Oui   \n",
       "4  Etat civil (ex : nom, sexe, date de naissance,...               NaN   \n",
       "\n",
       "                               Origine de l'incident  \\\n",
       "0  Données personnelles envoyées à un mauvais des...   \n",
       "1          Publication non volontaire d'informations   \n",
       "2  Piratage, logiciel malveillant (par exemple ra...   \n",
       "3  Piratage, logiciel malveillant (par exemple ra...   \n",
       "4  Piratage, logiciel malveillant (par exemple ra...   \n",
       "\n",
       "       Causes de l'incident     Information des personnes  \n",
       "0   Acte interne accidentel     Non, mais elles le seront  \n",
       "1   Acte externe accidentel     Non, mais elles le seront  \n",
       "2  Acte externe malveillant  Non déterminé pour le moment  \n",
       "3                   Inconnu  Non déterminé pour le moment  \n",
       "4  Acte externe malveillant  Non déterminé pour le moment  "
      ]
     },
     "execution_count": 3,
     "metadata": {},
     "output_type": "execute_result"
    }
   ],
   "source": [
    "cnil.head()"
   ]
  },
  {
   "cell_type": "code",
   "execution_count": 4,
   "metadata": {},
   "outputs": [],
   "source": [
    "cnil.to_csv('/Users/nelly/dataV2-labs/module-2/Project-2-Data-Breach/CNIL_data_breaches_cleaned')"
   ]
  },
  {
   "cell_type": "code",
   "execution_count": null,
   "metadata": {},
   "outputs": [],
   "source": []
  }
 ],
 "metadata": {
  "kernelspec": {
   "display_name": "Python 3",
   "language": "python",
   "name": "python3"
  },
  "language_info": {
   "codemirror_mode": {
    "name": "ipython",
    "version": 3
   },
   "file_extension": ".py",
   "mimetype": "text/x-python",
   "name": "python",
   "nbconvert_exporter": "python",
   "pygments_lexer": "ipython3",
   "version": "3.8.3"
  }
 },
 "nbformat": 4,
 "nbformat_minor": 4
}
