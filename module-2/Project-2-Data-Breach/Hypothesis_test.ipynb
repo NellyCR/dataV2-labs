{
 "cells": [
  {
   "cell_type": "code",
   "execution_count": 55,
   "metadata": {},
   "outputs": [
    {
     "data": {
      "text/html": [
       "<div>\n",
       "<style scoped>\n",
       "    .dataframe tbody tr th:only-of-type {\n",
       "        vertical-align: middle;\n",
       "    }\n",
       "\n",
       "    .dataframe tbody tr th {\n",
       "        vertical-align: top;\n",
       "    }\n",
       "\n",
       "    .dataframe thead th {\n",
       "        text-align: right;\n",
       "    }\n",
       "</style>\n",
       "<table border=\"1\" class=\"dataframe\">\n",
       "  <thead>\n",
       "    <tr style=\"text-align: right;\">\n",
       "      <th></th>\n",
       "      <th>Unnamed: 0</th>\n",
       "      <th>Date</th>\n",
       "      <th>Sector</th>\n",
       "      <th>Violation_nature</th>\n",
       "      <th>People_impacted</th>\n",
       "      <th>Data_type</th>\n",
       "      <th>Sensitive_data</th>\n",
       "      <th>Incident_origin</th>\n",
       "      <th>Incident_cause</th>\n",
       "      <th>People_informed</th>\n",
       "    </tr>\n",
       "  </thead>\n",
       "  <tbody>\n",
       "    <tr>\n",
       "      <th>0</th>\n",
       "      <td>1</td>\n",
       "      <td>2020-02</td>\n",
       "      <td>Health</td>\n",
       "      <td>Perte de la confidentialité</td>\n",
       "      <td>5</td>\n",
       "      <td>Etat civil (ex : nom, sexe, date de naissance,...</td>\n",
       "      <td>Oui</td>\n",
       "      <td>Recipient mistake</td>\n",
       "      <td>Internal-Accidental</td>\n",
       "      <td>They_will</td>\n",
       "    </tr>\n",
       "    <tr>\n",
       "      <th>1</th>\n",
       "      <td>2</td>\n",
       "      <td>2020-02</td>\n",
       "      <td>Commerce</td>\n",
       "      <td>Perte de la confidentialité</td>\n",
       "      <td>50</td>\n",
       "      <td>Etat civil (ex : nom, sexe, date de naissance,...</td>\n",
       "      <td>NaN</td>\n",
       "      <td>Publication mistake</td>\n",
       "      <td>External-Accidental</td>\n",
       "      <td>They_will</td>\n",
       "    </tr>\n",
       "    <tr>\n",
       "      <th>2</th>\n",
       "      <td>3</td>\n",
       "      <td>2020-02</td>\n",
       "      <td>Public_Administration</td>\n",
       "      <td>Perte de la confidentialité</td>\n",
       "      <td>5000</td>\n",
       "      <td>Civil-Contact</td>\n",
       "      <td>NaN</td>\n",
       "      <td>Hacking - Malware -Phishing</td>\n",
       "      <td>External-Malicious</td>\n",
       "      <td>TBD</td>\n",
       "    </tr>\n",
       "    <tr>\n",
       "      <th>3</th>\n",
       "      <td>4</td>\n",
       "      <td>2020-02</td>\n",
       "      <td>Public_Administration</td>\n",
       "      <td>Perte de la confidentialité,Perte de l'intégri...</td>\n",
       "      <td>5</td>\n",
       "      <td>Etat civil (ex : nom, sexe, date de naissance,...</td>\n",
       "      <td>Oui</td>\n",
       "      <td>Hacking - Malware -Phishing</td>\n",
       "      <td>Unknown</td>\n",
       "      <td>TBD</td>\n",
       "    </tr>\n",
       "    <tr>\n",
       "      <th>4</th>\n",
       "      <td>5</td>\n",
       "      <td>2020-02</td>\n",
       "      <td>Information/Communication</td>\n",
       "      <td>Perte de la confidentialité</td>\n",
       "      <td>&gt;5000</td>\n",
       "      <td>Etat civil (ex : nom, sexe, date de naissance,...</td>\n",
       "      <td>NaN</td>\n",
       "      <td>Hacking - Malware -Phishing</td>\n",
       "      <td>External-Malicious</td>\n",
       "      <td>TBD</td>\n",
       "    </tr>\n",
       "    <tr>\n",
       "      <th>5</th>\n",
       "      <td>6</td>\n",
       "      <td>2020-02</td>\n",
       "      <td>Scientific/Specialized/Technical</td>\n",
       "      <td>Perte de la confidentialité</td>\n",
       "      <td>5</td>\n",
       "      <td>Données d’identification ou d’accès (ex : iden...</td>\n",
       "      <td>NaN</td>\n",
       "      <td>Other</td>\n",
       "      <td>External-Malicious</td>\n",
       "      <td>They_will_not</td>\n",
       "    </tr>\n",
       "    <tr>\n",
       "      <th>6</th>\n",
       "      <td>7</td>\n",
       "      <td>2020-02</td>\n",
       "      <td>Manufacturing</td>\n",
       "      <td>Perte de la confidentialité</td>\n",
       "      <td>&gt;5000</td>\n",
       "      <td>Civil-Contact</td>\n",
       "      <td>NaN</td>\n",
       "      <td>Other</td>\n",
       "      <td>External-Accidental</td>\n",
       "      <td>They_will_not</td>\n",
       "    </tr>\n",
       "    <tr>\n",
       "      <th>7</th>\n",
       "      <td>8</td>\n",
       "      <td>2020-02</td>\n",
       "      <td>Manufacturing</td>\n",
       "      <td>Perte de la disponibilité</td>\n",
       "      <td>50</td>\n",
       "      <td>Etat civil (ex : nom, sexe, date de naissance,...</td>\n",
       "      <td>NaN</td>\n",
       "      <td>Hacking - Malware -Phishing</td>\n",
       "      <td>External-Malicious</td>\n",
       "      <td>They_will</td>\n",
       "    </tr>\n",
       "    <tr>\n",
       "      <th>8</th>\n",
       "      <td>9</td>\n",
       "      <td>2020-02</td>\n",
       "      <td>Public_Administration</td>\n",
       "      <td>Perte de la confidentialité</td>\n",
       "      <td>5</td>\n",
       "      <td>Etat civil (ex : nom, sexe, date de naissance,...</td>\n",
       "      <td>NaN</td>\n",
       "      <td>Equipment Lost or Stolen</td>\n",
       "      <td>External-Malicious</td>\n",
       "      <td>TBD</td>\n",
       "    </tr>\n",
       "    <tr>\n",
       "      <th>9</th>\n",
       "      <td>10</td>\n",
       "      <td>2020-02</td>\n",
       "      <td>Administrative/Support_services</td>\n",
       "      <td>Perte de la confidentialité,Perte de la dispon...</td>\n",
       "      <td>&gt;5000</td>\n",
       "      <td>TBD</td>\n",
       "      <td>NaN</td>\n",
       "      <td>Hacking - Malware -Phishing</td>\n",
       "      <td>External-Malicious</td>\n",
       "      <td>They_will</td>\n",
       "    </tr>\n",
       "  </tbody>\n",
       "</table>\n",
       "</div>"
      ],
      "text/plain": [
       "   Unnamed: 0     Date                            Sector  \\\n",
       "0           1  2020-02                            Health   \n",
       "1           2  2020-02                          Commerce   \n",
       "2           3  2020-02             Public_Administration   \n",
       "3           4  2020-02             Public_Administration   \n",
       "4           5  2020-02         Information/Communication   \n",
       "5           6  2020-02  Scientific/Specialized/Technical   \n",
       "6           7  2020-02                     Manufacturing   \n",
       "7           8  2020-02                     Manufacturing   \n",
       "8           9  2020-02             Public_Administration   \n",
       "9          10  2020-02   Administrative/Support_services   \n",
       "\n",
       "                                    Violation_nature People_impacted  \\\n",
       "0                        Perte de la confidentialité               5   \n",
       "1                        Perte de la confidentialité              50   \n",
       "2                        Perte de la confidentialité            5000   \n",
       "3  Perte de la confidentialité,Perte de l'intégri...               5   \n",
       "4                        Perte de la confidentialité           >5000   \n",
       "5                        Perte de la confidentialité               5   \n",
       "6                        Perte de la confidentialité           >5000   \n",
       "7                          Perte de la disponibilité              50   \n",
       "8                        Perte de la confidentialité               5   \n",
       "9  Perte de la confidentialité,Perte de la dispon...           >5000   \n",
       "\n",
       "                                           Data_type Sensitive_data  \\\n",
       "0  Etat civil (ex : nom, sexe, date de naissance,...            Oui   \n",
       "1  Etat civil (ex : nom, sexe, date de naissance,...            NaN   \n",
       "2                                      Civil-Contact            NaN   \n",
       "3  Etat civil (ex : nom, sexe, date de naissance,...            Oui   \n",
       "4  Etat civil (ex : nom, sexe, date de naissance,...            NaN   \n",
       "5  Données d’identification ou d’accès (ex : iden...            NaN   \n",
       "6                                      Civil-Contact            NaN   \n",
       "7  Etat civil (ex : nom, sexe, date de naissance,...            NaN   \n",
       "8  Etat civil (ex : nom, sexe, date de naissance,...            NaN   \n",
       "9                                                TBD            NaN   \n",
       "\n",
       "               Incident_origin       Incident_cause People_informed  \n",
       "0            Recipient mistake  Internal-Accidental       They_will  \n",
       "1          Publication mistake  External-Accidental       They_will  \n",
       "2  Hacking - Malware -Phishing   External-Malicious             TBD  \n",
       "3  Hacking - Malware -Phishing              Unknown             TBD  \n",
       "4  Hacking - Malware -Phishing   External-Malicious             TBD  \n",
       "5                        Other   External-Malicious   They_will_not  \n",
       "6                        Other  External-Accidental   They_will_not  \n",
       "7  Hacking - Malware -Phishing   External-Malicious       They_will  \n",
       "8     Equipment Lost or Stolen   External-Malicious             TBD  \n",
       "9  Hacking - Malware -Phishing   External-Malicious       They_will  "
      ]
     },
     "execution_count": 55,
     "metadata": {},
     "output_type": "execute_result"
    }
   ],
   "source": [
    "import pandas as pd\n",
    "\n",
    "breaches = pd.read_csv('/Users/nelly/dataV2-labs/module-2/Project-2-Data-Breach/CNIL_data_breaches_cleaned2')\n",
    "\n",
    "breaches.head(10)"
   ]
  },
  {
   "cell_type": "code",
   "execution_count": 41,
   "metadata": {},
   "outputs": [
    {
     "data": {
      "text/html": [
       "<div>\n",
       "<style scoped>\n",
       "    .dataframe tbody tr th:only-of-type {\n",
       "        vertical-align: middle;\n",
       "    }\n",
       "\n",
       "    .dataframe tbody tr th {\n",
       "        vertical-align: top;\n",
       "    }\n",
       "\n",
       "    .dataframe thead th {\n",
       "        text-align: right;\n",
       "    }\n",
       "</style>\n",
       "<table border=\"1\" class=\"dataframe\">\n",
       "  <thead>\n",
       "    <tr style=\"text-align: right;\">\n",
       "      <th></th>\n",
       "      <th>Date</th>\n",
       "      <th>Sector</th>\n",
       "      <th>Violation_nature</th>\n",
       "      <th>People_impacted</th>\n",
       "      <th>Data_type</th>\n",
       "      <th>Sensitive_data</th>\n",
       "      <th>Incident_origin</th>\n",
       "      <th>Incident_cause</th>\n",
       "      <th>People_informed</th>\n",
       "    </tr>\n",
       "  </thead>\n",
       "  <tbody>\n",
       "    <tr>\n",
       "      <th>0</th>\n",
       "      <td>2020-02</td>\n",
       "      <td>Health</td>\n",
       "      <td>Perte de la confidentialité</td>\n",
       "      <td>5</td>\n",
       "      <td>Etat civil (ex : nom, sexe, date de naissance,...</td>\n",
       "      <td>Oui</td>\n",
       "      <td>Recipient mistake</td>\n",
       "      <td>Internal-Accidental</td>\n",
       "      <td>They_will</td>\n",
       "    </tr>\n",
       "  </tbody>\n",
       "</table>\n",
       "</div>"
      ],
      "text/plain": [
       "      Date  Sector             Violation_nature People_impacted  \\\n",
       "0  2020-02  Health  Perte de la confidentialité               5   \n",
       "\n",
       "                                           Data_type Sensitive_data  \\\n",
       "0  Etat civil (ex : nom, sexe, date de naissance,...            Oui   \n",
       "\n",
       "     Incident_origin       Incident_cause People_informed  \n",
       "0  Recipient mistake  Internal-Accidental       They_will  "
      ]
     },
     "execution_count": 41,
     "metadata": {},
     "output_type": "execute_result"
    }
   ],
   "source": [
    "#breaches.drop(columns=['Unnamed: 0'], inplace=True)\n",
    "\n",
    "breaches.head(1)"
   ]
  },
  {
   "cell_type": "code",
   "execution_count": null,
   "metadata": {},
   "outputs": [],
   "source": [
    "\"\"\"\"\n",
    "HEALTH SECTOR\n",
    "\n",
    "Hyphothesis Testing : Z-test\n",
    "\n",
    "Testing a Population Proportion\n",
    "\n",
    "\"\"\"\""
   ]
  },
  {
   "cell_type": "code",
   "execution_count": 34,
   "metadata": {
    "scrolled": true
   },
   "outputs": [
    {
     "data": {
      "text/plain": [
       "(124, 9)"
      ]
     },
     "execution_count": 34,
     "metadata": {},
     "output_type": "execute_result"
    }
   ],
   "source": [
    "# HEALTH SECTOR : SENSITIVE DATA BREACHES\n",
    "\n",
    "health_sensitive = breaches[(breaches['Sector'] == 'Health') & (breaches['Sensitive_data'] == 'Oui')]\n",
    "\n",
    "health_sensitive.shape"
   ]
  },
  {
   "cell_type": "code",
   "execution_count": 54,
   "metadata": {
    "scrolled": true
   },
   "outputs": [
    {
     "data": {
      "text/plain": [
       "TBD              62\n",
       "They_will        37\n",
       "They_will_not    14\n",
       "Yes              11\n",
       "Name: People_informed, dtype: int64"
      ]
     },
     "execution_count": 54,
     "metadata": {},
     "output_type": "execute_result"
    }
   ],
   "source": [
    "# HEALTH SECTOR : PEOPLE INFORMED OF A SENSITIVE DATA BREACH \n",
    "\n",
    "health_sensitive['People_informed'].value_counts()"
   ]
  },
  {
   "cell_type": "code",
   "execution_count": 44,
   "metadata": {},
   "outputs": [
    {
     "data": {
      "text/plain": [
       "TBD              45\n",
       "They_will        34\n",
       "Yes              26\n",
       "They_will_not    15\n",
       "Name: People_informed, dtype: int64"
      ]
     },
     "execution_count": 44,
     "metadata": {},
     "output_type": "execute_result"
    }
   ],
   "source": [
    "# HEALTH SECTOR : PEOPLE INFORMED OF DATA BREACHES NOT MARKED AS SENSITIVE DATA \n",
    "\n",
    "health_all = breaches[(breaches['Sector'] == 'Health') & (breaches['Sensitive_data'].isnull())]\n",
    "\n",
    "health_all['People_informed'].value_counts()"
   ]
  },
  {
   "cell_type": "code",
   "execution_count": 45,
   "metadata": {},
   "outputs": [
    {
     "data": {
      "text/plain": [
       "(120, 9)"
      ]
     },
     "execution_count": 45,
     "metadata": {},
     "output_type": "execute_result"
    }
   ],
   "source": [
    "# HEALTH SECTOR : ALL DATA BREACHES NOT MARKED AS SENSITIVE DATA \n",
    "\n",
    "health_all.shape"
   ]
  },
  {
   "cell_type": "code",
   "execution_count": 53,
   "metadata": {},
   "outputs": [
    {
     "name": "stdout",
     "output_type": "stream",
     "text": [
      "(-2.5811394192787005, 0.009847480357436055)\n"
     ]
    }
   ],
   "source": [
    "# Z-test HEALTH SECTOR\n",
    "\n",
    "# H0 = proportion is .5\n",
    "\n",
    "import numpy as np\n",
    "from statsmodels.stats.proportion import proportions_ztest\n",
    "\n",
    "count = 48  # people who have been informed or will be informed of a sensitive data breach\n",
    "nobs = 124  # observations \n",
    "value = .5 # proportion of people informed or will be informed of breach not reported as sensitive (60/120 obs)\n",
    "\n",
    "pval = proportions_ztest(count, nobs, value)\n",
    "print(pval)\n",
    "\n",
    "# prob of being random is too low , there is a real difference. \n"
   ]
  },
  {
   "cell_type": "code",
   "execution_count": 51,
   "metadata": {},
   "outputs": [
    {
     "data": {
      "text/plain": [
       "(0.3013647696895542, 0.47282877869754253)"
      ]
     },
     "execution_count": 51,
     "metadata": {},
     "output_type": "execute_result"
    }
   ],
   "source": [
    "# CONFIDENCE INTERVAL HEALTH SECTOR: PEOPLE INFORMED OF SENSITIVE DATA BREACHES\n",
    "\n",
    "# NOT RELEVANT FOR OUR CASE \n",
    "\n",
    "import statsmodels.api as sm\n",
    "from statsmodels.stats.proportion import proportion_confint   \n",
    "\n",
    "proportion_confint(count=48,    # Number of \"successes\"\n",
    "                   nobs=124,    # Number of trials\n",
    "                   alpha=(1 - 0.95))"
   ]
  },
  {
   "cell_type": "code",
   "execution_count": null,
   "metadata": {},
   "outputs": [],
   "source": [
    "\"\"\"\"\n",
    "PUBLIC ADMINISTRATION SECTOR\n",
    "\n",
    "Hyphothesis Testing : Z-test\n",
    "\n",
    "Testing a Population Proportion\n",
    "\n",
    "\"\"\"\""
   ]
  },
  {
   "cell_type": "code",
   "execution_count": 56,
   "metadata": {},
   "outputs": [
    {
     "data": {
      "text/plain": [
       "(90, 10)"
      ]
     },
     "execution_count": 56,
     "metadata": {},
     "output_type": "execute_result"
    }
   ],
   "source": [
    "# PUBLIC SECTOR : SENSITIVE DATA BREACHES \n",
    "\n",
    "public_sensitive = breaches[(breaches['Sector'] == 'Public_Administration') & (breaches['Sensitive_data'] == 'Oui')]\n",
    "\n",
    "public_sensitive.shape"
   ]
  },
  {
   "cell_type": "code",
   "execution_count": 59,
   "metadata": {},
   "outputs": [
    {
     "data": {
      "text/plain": [
       "TBD              42\n",
       "Yes              18\n",
       "They_will        18\n",
       "They_will_not    12\n",
       "Name: People_informed, dtype: int64"
      ]
     },
     "execution_count": 59,
     "metadata": {},
     "output_type": "execute_result"
    }
   ],
   "source": [
    "public_sensitive['People_informed'].value_counts()"
   ]
  },
  {
   "cell_type": "code",
   "execution_count": 57,
   "metadata": {},
   "outputs": [
    {
     "data": {
      "text/plain": [
       "(120, 10)"
      ]
     },
     "execution_count": 57,
     "metadata": {},
     "output_type": "execute_result"
    }
   ],
   "source": [
    "# PUBLIC SECTOR : DATA BREACHES NOT MARKED AS SENSITIVE DATA \n",
    "\n",
    "public_all = breaches[(breaches['Sector'] == 'Health') & (breaches['Sensitive_data'].isnull())]\n",
    "\n",
    "public_all.shape\n"
   ]
  },
  {
   "cell_type": "code",
   "execution_count": 58,
   "metadata": {},
   "outputs": [
    {
     "data": {
      "text/plain": [
       "TBD              45\n",
       "They_will        34\n",
       "Yes              26\n",
       "They_will_not    15\n",
       "Name: People_informed, dtype: int64"
      ]
     },
     "execution_count": 58,
     "metadata": {},
     "output_type": "execute_result"
    }
   ],
   "source": [
    "public_all['People_informed'].value_counts()"
   ]
  },
  {
   "cell_type": "code",
   "execution_count": 60,
   "metadata": {},
   "outputs": [
    {
     "name": "stdout",
     "output_type": "stream",
     "text": [
      "(-1.936491673103708, 0.05280751141611366)\n"
     ]
    }
   ],
   "source": [
    "# Z-test PUBLIC ADMINISTRATION \n",
    "\n",
    "count = 36  # people who have been informed or will be informed of a sensitive data breach\n",
    "nobs = 90  # observations \n",
    "value = .5 # proportion of people informed of health sector breach not reported as sensitive (60/120 obs)\n",
    "\n",
    "pval = proportions_ztest(count, nobs, value)\n",
    "print(pval)\n",
    "\n",
    "# the difference we observe is not as strong as the health sector \n",
    "# we do not reject the null hyphosesis \n"
   ]
  },
  {
   "cell_type": "code",
   "execution_count": 61,
   "metadata": {},
   "outputs": [
    {
     "name": "stdout",
     "output_type": "stream",
     "text": [
      "(2.1908902300206643, 0.028459736916310565)\n"
     ]
    }
   ],
   "source": [
    "# Z-test PUBLIC ADMINISTRATION \n",
    "\n",
    "count = 60  # people who have been informed or will be informed of breach not reported as sensitive\n",
    "nobs = 120  # observations \n",
    "value = .4 # proportion of people informed of breach reported as sensitive (36/90 obs)\n",
    "\n",
    "pval = proportions_ztest(count, nobs, value)\n",
    "print(pval)\n"
   ]
  },
  {
   "cell_type": "code",
   "execution_count": null,
   "metadata": {},
   "outputs": [],
   "source": [
    "informed non sensitive : 60/120 =.5\n",
    "informed sensitive : 36 /90 = .4"
   ]
  }
 ],
 "metadata": {
  "kernelspec": {
   "display_name": "Python 3",
   "language": "python",
   "name": "python3"
  },
  "language_info": {
   "codemirror_mode": {
    "name": "ipython",
    "version": 3
   },
   "file_extension": ".py",
   "mimetype": "text/x-python",
   "name": "python",
   "nbconvert_exporter": "python",
   "pygments_lexer": "ipython3",
   "version": "3.8.3"
  }
 },
 "nbformat": 4,
 "nbformat_minor": 4
}
